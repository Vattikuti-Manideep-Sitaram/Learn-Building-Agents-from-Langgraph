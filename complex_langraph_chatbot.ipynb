{
 "cells": [
  {
   "cell_type": "code",
   "execution_count": null,
   "id": "78390e8d",
   "metadata": {},
   "outputs": [],
   "source": [
    "from typing import TypedDict\n",
    "from typing_extensions import Annotated\n",
    "from langgraph.graph.message import add_messages\n",
    "from langgraph.graph import StateGraph,START,END\n",
    "from langgraph.prebuilt import ToolNode,tools_condition\n",
    "from langchain.chat_models import init_chat_model\n",
    "from langchain_core.messages import ToolMessage\n",
    "from langchain_core.tools import InjectedToolCallId,tool\n",
    "\n",
    "from langgraph.types import Command,interrupt\n"
   ]
  },
  {
   "cell_type": "code",
   "execution_count": 7,
   "id": "9c66708d",
   "metadata": {},
   "outputs": [],
   "source": [
    "@tool\n",
    "def human_assistance(name:str,birthday:str,tool_call_id:Annotated[str,InjectedToolCallId]):\n",
    "    \"\"\"Request assistance from a human\"\"\"\n",
    "    human_response=interrupt({\n",
    "        \"question\": \"Is this correct\",\n",
    "        \"name\":name,\n",
    "        \"birthday\":birthday\n",
    "    })\n",
    "    \n",
    "    if human_response.get(\"correct\",\"\").lower().startswith(\"y\"):\n",
    "        verified_name=name\n",
    "        verified_birthday=birthday\n",
    "        response=\"Correct\"\n",
    "        \n",
    "    else:\n",
    "        verified_name=human_response.get(\"name\",name)\n",
    "        verified_birthday = human_response.get(\"birthday\", birthday)\n",
    "        response = f\"Made a correction: {human_response}\"\n",
    "    \n",
    "    state_update={\n",
    "        \"name\": verified_name,\n",
    "        \"birthday\": verified_birthday,\n",
    "        \"messages\": [ToolMessage(response,tool_call_id=tool_call_id)]\n",
    "    }\n",
    "    \n",
    "    return Command(update=state_update)"
   ]
  },
  {
   "cell_type": "code",
   "execution_count": null,
   "id": "35d96864",
   "metadata": {},
   "outputs": [],
   "source": [
    "class State(TypedDict):\n",
    "    messages: Annotated[list,add_messages]\n",
    "    name:str\n",
    "    birthday:str\n",
    "    \n",
    "def chatbot(state: State) -> State:\n",
    "    return {\"messages\": [llm.invoke(state[\"messages\"])]}\n",
    "\n",
    "graph_builder = StateGraph(State)\n",
    "tools=[human_assistance]\n",
    "llm= init_chat_model(\"gpt-4.1-mini\").bind_tools(tools)\n",
    "\n",
    "\n",
    "graph_builder.add_node(\"chatbot\",chatbot)\n",
    "\n",
    "graph_builder.add_edge(START,\"chatbot\")\n",
    "\n",
    "tool_node=ToolNod\n"
   ]
  }
 ],
 "metadata": {
  "kernelspec": {
   "display_name": "Python 3",
   "language": "python",
   "name": "python3"
  },
  "language_info": {
   "codemirror_mode": {
    "name": "ipython",
    "version": 3
   },
   "file_extension": ".py",
   "mimetype": "text/x-python",
   "name": "python",
   "nbconvert_exporter": "python",
   "pygments_lexer": "ipython3",
   "version": "3.11.0"
  }
 },
 "nbformat": 4,
 "nbformat_minor": 5
}
