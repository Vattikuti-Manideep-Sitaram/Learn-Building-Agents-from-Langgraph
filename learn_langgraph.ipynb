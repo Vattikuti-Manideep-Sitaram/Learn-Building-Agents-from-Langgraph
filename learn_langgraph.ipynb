{
 "cells": [
  {
   "cell_type": "code",
   "execution_count": 1,
   "id": "f4fe9860",
   "metadata": {},
   "outputs": [
    {
     "name": "stdout",
     "output_type": "stream",
     "text": [
      "Requirement already satisfied: langgraph in c:\\users\\kanna\\appdata\\local\\programs\\python\\python311\\lib\\site-packages (0.4.8)\n",
      "Requirement already satisfied: langchain-openai in c:\\users\\kanna\\appdata\\local\\programs\\python\\python311\\lib\\site-packages (0.3.19)\n",
      "Requirement already satisfied: langchain in c:\\users\\kanna\\appdata\\local\\programs\\python\\python311\\lib\\site-packages (0.3.25)\n",
      "Requirement already satisfied: langsmith in c:\\users\\kanna\\appdata\\local\\programs\\python\\python311\\lib\\site-packages (0.3.44)\n",
      "Requirement already satisfied: langchain-core>=0.1 in c:\\users\\kanna\\appdata\\local\\programs\\python\\python311\\lib\\site-packages (from langgraph) (0.3.63)\n",
      "Requirement already satisfied: langgraph-checkpoint>=2.0.26 in c:\\users\\kanna\\appdata\\local\\programs\\python\\python311\\lib\\site-packages (from langgraph) (2.0.26)\n",
      "Requirement already satisfied: langgraph-prebuilt>=0.2.0 in c:\\users\\kanna\\appdata\\local\\programs\\python\\python311\\lib\\site-packages (from langgraph) (0.2.2)\n",
      "Requirement already satisfied: langgraph-sdk>=0.1.42 in c:\\users\\kanna\\appdata\\local\\programs\\python\\python311\\lib\\site-packages (from langgraph) (0.1.70)\n",
      "Requirement already satisfied: pydantic>=2.7.4 in c:\\users\\kanna\\appdata\\local\\programs\\python\\python311\\lib\\site-packages (from langgraph) (2.11.5)\n",
      "Requirement already satisfied: xxhash>=3.5.0 in c:\\users\\kanna\\appdata\\local\\programs\\python\\python311\\lib\\site-packages (from langgraph) (3.5.0)\n",
      "Requirement already satisfied: openai<2.0.0,>=1.68.2 in c:\\users\\kanna\\appdata\\local\\programs\\python\\python311\\lib\\site-packages (from langchain-openai) (1.83.0)\n",
      "Requirement already satisfied: tiktoken<1,>=0.7 in c:\\users\\kanna\\appdata\\local\\programs\\python\\python311\\lib\\site-packages (from langchain-openai) (0.9.0)\n",
      "Requirement already satisfied: langchain-text-splitters<1.0.0,>=0.3.8 in c:\\users\\kanna\\appdata\\local\\programs\\python\\python311\\lib\\site-packages (from langchain) (0.3.8)\n",
      "Requirement already satisfied: SQLAlchemy<3,>=1.4 in c:\\users\\kanna\\appdata\\local\\programs\\python\\python311\\lib\\site-packages (from langchain) (2.0.41)\n",
      "Requirement already satisfied: requests<3,>=2 in c:\\users\\kanna\\appdata\\local\\programs\\python\\python311\\lib\\site-packages (from langchain) (2.32.3)\n",
      "Requirement already satisfied: PyYAML>=5.3 in c:\\users\\kanna\\appdata\\local\\programs\\python\\python311\\lib\\site-packages (from langchain) (6.0.2)\n",
      "Requirement already satisfied: httpx<1,>=0.23.0 in c:\\users\\kanna\\appdata\\local\\programs\\python\\python311\\lib\\site-packages (from langsmith) (0.28.1)\n",
      "Requirement already satisfied: orjson<4.0.0,>=3.9.14 in c:\\users\\kanna\\appdata\\local\\programs\\python\\python311\\lib\\site-packages (from langsmith) (3.10.18)\n",
      "Requirement already satisfied: packaging>=23.2 in c:\\users\\kanna\\appdata\\roaming\\python\\python311\\site-packages (from langsmith) (23.2)\n",
      "Requirement already satisfied: requests-toolbelt<2.0.0,>=1.0.0 in c:\\users\\kanna\\appdata\\local\\programs\\python\\python311\\lib\\site-packages (from langsmith) (1.0.0)\n",
      "Requirement already satisfied: zstandard<0.24.0,>=0.23.0 in c:\\users\\kanna\\appdata\\local\\programs\\python\\python311\\lib\\site-packages (from langsmith) (0.23.0)\n",
      "Requirement already satisfied: anyio in c:\\users\\kanna\\appdata\\local\\programs\\python\\python311\\lib\\site-packages (from httpx<1,>=0.23.0->langsmith) (4.9.0)\n",
      "Requirement already satisfied: certifi in c:\\users\\kanna\\appdata\\local\\programs\\python\\python311\\lib\\site-packages (from httpx<1,>=0.23.0->langsmith) (2025.4.26)\n",
      "Requirement already satisfied: httpcore==1.* in c:\\users\\kanna\\appdata\\local\\programs\\python\\python311\\lib\\site-packages (from httpx<1,>=0.23.0->langsmith) (1.0.9)\n",
      "Requirement already satisfied: idna in c:\\users\\kanna\\appdata\\local\\programs\\python\\python311\\lib\\site-packages (from httpx<1,>=0.23.0->langsmith) (3.10)\n",
      "Requirement already satisfied: h11>=0.16 in c:\\users\\kanna\\appdata\\local\\programs\\python\\python311\\lib\\site-packages (from httpcore==1.*->httpx<1,>=0.23.0->langsmith) (0.16.0)\n",
      "Requirement already satisfied: tenacity!=8.4.0,<10.0.0,>=8.1.0 in c:\\users\\kanna\\appdata\\local\\programs\\python\\python311\\lib\\site-packages (from langchain-core>=0.1->langgraph) (9.1.2)\n",
      "Requirement already satisfied: jsonpatch<2.0,>=1.33 in c:\\users\\kanna\\appdata\\local\\programs\\python\\python311\\lib\\site-packages (from langchain-core>=0.1->langgraph) (1.33)\n",
      "Requirement already satisfied: typing-extensions>=4.7 in c:\\users\\kanna\\appdata\\local\\programs\\python\\python311\\lib\\site-packages (from langchain-core>=0.1->langgraph) (4.14.0)\n",
      "Requirement already satisfied: ormsgpack<2.0.0,>=1.8.0 in c:\\users\\kanna\\appdata\\local\\programs\\python\\python311\\lib\\site-packages (from langgraph-checkpoint>=2.0.26->langgraph) (1.10.0)\n",
      "Requirement already satisfied: distro<2,>=1.7.0 in c:\\users\\kanna\\appdata\\local\\programs\\python\\python311\\lib\\site-packages (from openai<2.0.0,>=1.68.2->langchain-openai) (1.9.0)\n",
      "Requirement already satisfied: jiter<1,>=0.4.0 in c:\\users\\kanna\\appdata\\local\\programs\\python\\python311\\lib\\site-packages (from openai<2.0.0,>=1.68.2->langchain-openai) (0.10.0)\n",
      "Requirement already satisfied: sniffio in c:\\users\\kanna\\appdata\\local\\programs\\python\\python311\\lib\\site-packages (from openai<2.0.0,>=1.68.2->langchain-openai) (1.3.1)\n",
      "Requirement already satisfied: tqdm>4 in c:\\users\\kanna\\appdata\\local\\programs\\python\\python311\\lib\\site-packages (from openai<2.0.0,>=1.68.2->langchain-openai) (4.67.1)\n",
      "Requirement already satisfied: annotated-types>=0.6.0 in c:\\users\\kanna\\appdata\\local\\programs\\python\\python311\\lib\\site-packages (from pydantic>=2.7.4->langgraph) (0.7.0)\n",
      "Requirement already satisfied: pydantic-core==2.33.2 in c:\\users\\kanna\\appdata\\local\\programs\\python\\python311\\lib\\site-packages (from pydantic>=2.7.4->langgraph) (2.33.2)\n",
      "Requirement already satisfied: typing-inspection>=0.4.0 in c:\\users\\kanna\\appdata\\local\\programs\\python\\python311\\lib\\site-packages (from pydantic>=2.7.4->langgraph) (0.4.1)\n",
      "Requirement already satisfied: charset-normalizer<4,>=2 in c:\\users\\kanna\\appdata\\local\\programs\\python\\python311\\lib\\site-packages (from requests<3,>=2->langchain) (3.4.2)\n",
      "Requirement already satisfied: urllib3<3,>=1.21.1 in c:\\users\\kanna\\appdata\\local\\programs\\python\\python311\\lib\\site-packages (from requests<3,>=2->langchain) (2.4.0)\n",
      "Requirement already satisfied: greenlet>=1 in c:\\users\\kanna\\appdata\\local\\programs\\python\\python311\\lib\\site-packages (from SQLAlchemy<3,>=1.4->langchain) (3.2.2)\n",
      "Requirement already satisfied: regex>=2022.1.18 in c:\\users\\kanna\\appdata\\local\\programs\\python\\python311\\lib\\site-packages (from tiktoken<1,>=0.7->langchain-openai) (2024.11.6)\n",
      "Requirement already satisfied: jsonpointer>=1.9 in c:\\users\\kanna\\appdata\\local\\programs\\python\\python311\\lib\\site-packages (from jsonpatch<2.0,>=1.33->langchain-core>=0.1->langgraph) (3.0.0)\n",
      "Requirement already satisfied: colorama in c:\\users\\kanna\\appdata\\roaming\\python\\python311\\site-packages (from tqdm>4->openai<2.0.0,>=1.68.2->langchain-openai) (0.4.6)\n"
     ]
    },
    {
     "name": "stderr",
     "output_type": "stream",
     "text": [
      "\n",
      "[notice] A new release of pip available: 22.3 -> 25.1.1\n",
      "[notice] To update, run: python.exe -m pip install --upgrade pip\n"
     ]
    }
   ],
   "source": [
    "! pip install -U langgraph langchain-openai langchain langsmith"
   ]
  },
  {
   "cell_type": "code",
   "execution_count": 2,
   "id": "713aa0a8",
   "metadata": {},
   "outputs": [
    {
     "data": {
      "text/plain": [
       "{'messages': [HumanMessage(content='what is weather in Hyderabad', additional_kwargs={}, response_metadata={}, id='9c951d50-ff39-48e9-a50f-86b2c344d0f6'),\n",
       "  AIMessage(content='', additional_kwargs={'tool_calls': [{'id': 'call_CP4eMhvLqYyo9hWzyzhZ1rPR', 'function': {'arguments': '{\"city\":\"Hyderabad\"}', 'name': 'get_weather'}, 'type': 'function'}], 'refusal': None}, response_metadata={'token_usage': {'completion_tokens': 15, 'prompt_tokens': 55, 'total_tokens': 70, 'completion_tokens_details': {'accepted_prediction_tokens': 0, 'audio_tokens': 0, 'reasoning_tokens': 0, 'rejected_prediction_tokens': 0}, 'prompt_tokens_details': {'audio_tokens': 0, 'cached_tokens': 0}}, 'model_name': 'gpt-4.1-mini-2025-04-14', 'system_fingerprint': 'fp_6f2eabb9a5', 'id': 'chatcmpl-BeVrFBflX2TrOgfNftMTry9XIOybn', 'service_tier': 'default', 'finish_reason': 'tool_calls', 'logprobs': None}, id='run--4db7f684-dad1-479c-8901-c98cc4727cc7-0', tool_calls=[{'name': 'get_weather', 'args': {'city': 'Hyderabad'}, 'id': 'call_CP4eMhvLqYyo9hWzyzhZ1rPR', 'type': 'tool_call'}], usage_metadata={'input_tokens': 55, 'output_tokens': 15, 'total_tokens': 70, 'input_token_details': {'audio': 0, 'cache_read': 0}, 'output_token_details': {'audio': 0, 'reasoning': 0}}),\n",
       "  ToolMessage(content='Its always rainy in Hyderabad', name='get_weather', id='313996db-260b-4f40-a21e-b1c93ebec206', tool_call_id='call_CP4eMhvLqYyo9hWzyzhZ1rPR'),\n",
       "  AIMessage(content='The weather in Hyderabad is currently rainy. If you need more detailed information or a forecast, please let me know!', additional_kwargs={'refusal': None}, response_metadata={'token_usage': {'completion_tokens': 24, 'prompt_tokens': 83, 'total_tokens': 107, 'completion_tokens_details': {'accepted_prediction_tokens': 0, 'audio_tokens': 0, 'reasoning_tokens': 0, 'rejected_prediction_tokens': 0}, 'prompt_tokens_details': {'audio_tokens': 0, 'cached_tokens': 0}}, 'model_name': 'gpt-4.1-mini-2025-04-14', 'system_fingerprint': 'fp_6f2eabb9a5', 'id': 'chatcmpl-BeVrHKnUwJJLDrGbkcVqWkPP2EWNi', 'service_tier': 'default', 'finish_reason': 'stop', 'logprobs': None}, id='run--48c13cae-d7d3-4427-a73a-e04efa665c42-0', usage_metadata={'input_tokens': 83, 'output_tokens': 24, 'total_tokens': 107, 'input_token_details': {'audio': 0, 'cache_read': 0}, 'output_token_details': {'audio': 0, 'reasoning': 0}})]}"
      ]
     },
     "execution_count": 2,
     "metadata": {},
     "output_type": "execute_result"
    }
   ],
   "source": [
    "from langgraph.prebuilt import create_react_agent\n",
    "from langchain.chat_models import init_chat_model\n",
    "from langgraph.checkpoint.memory import InMemorySaver\n",
    "\n",
    "def get_weather(city:str) -> str:\n",
    "    \"\"\"Get weather for a given city\"\"\"\n",
    "    return f\"Its always rainy in {city}\"\n",
    "\n",
    "\n",
    "checkpointer = InMemorySaver()\n",
    "\n",
    "model=init_chat_model(\n",
    "    \"gpt-4.1-mini\",\n",
    "    temperature=0\n",
    ")\n",
    "\n",
    "config = {\"configurable\": {\"thread_id\":\"1\"}}\n",
    "\n",
    "agent=create_react_agent(\n",
    "    model=model,\n",
    "    tools=[get_weather],\n",
    "    checkpointer=checkpointer,\n",
    "    prompt=\"You are an helpful assistant\"\n",
    ")\n",
    "\n",
    "agent.invoke({\n",
    "    \"messages\":[{\"role\": \"user\",\"content\":\"what is weather in Hyderabad\"}]\n",
    "},\n",
    "  config\n",
    "  )"
   ]
  },
  {
   "cell_type": "code",
   "execution_count": 3,
   "id": "bd4b85f2",
   "metadata": {},
   "outputs": [
    {
     "data": {
      "text/plain": [
       "{'messages': [HumanMessage(content='what is weather in Hyderabad', additional_kwargs={}, response_metadata={}, id='9c951d50-ff39-48e9-a50f-86b2c344d0f6'),\n",
       "  AIMessage(content='', additional_kwargs={'tool_calls': [{'id': 'call_CP4eMhvLqYyo9hWzyzhZ1rPR', 'function': {'arguments': '{\"city\":\"Hyderabad\"}', 'name': 'get_weather'}, 'type': 'function'}], 'refusal': None}, response_metadata={'token_usage': {'completion_tokens': 15, 'prompt_tokens': 55, 'total_tokens': 70, 'completion_tokens_details': {'accepted_prediction_tokens': 0, 'audio_tokens': 0, 'reasoning_tokens': 0, 'rejected_prediction_tokens': 0}, 'prompt_tokens_details': {'audio_tokens': 0, 'cached_tokens': 0}}, 'model_name': 'gpt-4.1-mini-2025-04-14', 'system_fingerprint': 'fp_6f2eabb9a5', 'id': 'chatcmpl-BeVrFBflX2TrOgfNftMTry9XIOybn', 'service_tier': 'default', 'finish_reason': 'tool_calls', 'logprobs': None}, id='run--4db7f684-dad1-479c-8901-c98cc4727cc7-0', tool_calls=[{'name': 'get_weather', 'args': {'city': 'Hyderabad'}, 'id': 'call_CP4eMhvLqYyo9hWzyzhZ1rPR', 'type': 'tool_call'}], usage_metadata={'input_tokens': 55, 'output_tokens': 15, 'total_tokens': 70, 'input_token_details': {'audio': 0, 'cache_read': 0}, 'output_token_details': {'audio': 0, 'reasoning': 0}}),\n",
       "  ToolMessage(content='Its always rainy in Hyderabad', name='get_weather', id='313996db-260b-4f40-a21e-b1c93ebec206', tool_call_id='call_CP4eMhvLqYyo9hWzyzhZ1rPR'),\n",
       "  AIMessage(content='The weather in Hyderabad is currently rainy. If you need more detailed information or a forecast, please let me know!', additional_kwargs={'refusal': None}, response_metadata={'token_usage': {'completion_tokens': 24, 'prompt_tokens': 83, 'total_tokens': 107, 'completion_tokens_details': {'accepted_prediction_tokens': 0, 'audio_tokens': 0, 'reasoning_tokens': 0, 'rejected_prediction_tokens': 0}, 'prompt_tokens_details': {'audio_tokens': 0, 'cached_tokens': 0}}, 'model_name': 'gpt-4.1-mini-2025-04-14', 'system_fingerprint': 'fp_6f2eabb9a5', 'id': 'chatcmpl-BeVrHKnUwJJLDrGbkcVqWkPP2EWNi', 'service_tier': 'default', 'finish_reason': 'stop', 'logprobs': None}, id='run--48c13cae-d7d3-4427-a73a-e04efa665c42-0', usage_metadata={'input_tokens': 83, 'output_tokens': 24, 'total_tokens': 107, 'input_token_details': {'audio': 0, 'cache_read': 0}, 'output_token_details': {'audio': 0, 'reasoning': 0}}),\n",
       "  HumanMessage(content='what about Rajamundry', additional_kwargs={}, response_metadata={}, id='2763f34a-62eb-41fe-a551-6d21756c6d36'),\n",
       "  AIMessage(content='', additional_kwargs={'tool_calls': [{'id': 'call_OyMrKCLQJp6flw7stW5dlnuA', 'function': {'arguments': '{\"city\":\"Rajamundry\"}', 'name': 'get_weather'}, 'type': 'function'}], 'refusal': None}, response_metadata={'token_usage': {'completion_tokens': 17, 'prompt_tokens': 120, 'total_tokens': 137, 'completion_tokens_details': {'accepted_prediction_tokens': 0, 'audio_tokens': 0, 'reasoning_tokens': 0, 'rejected_prediction_tokens': 0}, 'prompt_tokens_details': {'audio_tokens': 0, 'cached_tokens': 0}}, 'model_name': 'gpt-4.1-mini-2025-04-14', 'system_fingerprint': 'fp_6f2eabb9a5', 'id': 'chatcmpl-BeVrIyzTm5DFYZL3aeGu12VzNceKQ', 'service_tier': 'default', 'finish_reason': 'tool_calls', 'logprobs': None}, id='run--b8bcec5d-17e1-4ce6-b69d-49d6cb7d7cd3-0', tool_calls=[{'name': 'get_weather', 'args': {'city': 'Rajamundry'}, 'id': 'call_OyMrKCLQJp6flw7stW5dlnuA', 'type': 'tool_call'}], usage_metadata={'input_tokens': 120, 'output_tokens': 17, 'total_tokens': 137, 'input_token_details': {'audio': 0, 'cache_read': 0}, 'output_token_details': {'audio': 0, 'reasoning': 0}}),\n",
       "  ToolMessage(content='Its always rainy in Rajamundry', name='get_weather', id='01212f76-bb2b-484e-a134-8a8b3f4ef47d', tool_call_id='call_OyMrKCLQJp6flw7stW5dlnuA'),\n",
       "  AIMessage(content='The weather in Rajamundry is also currently rainy. If you want to know the weather for any other city or need more details, feel free to ask!', additional_kwargs={'refusal': None}, response_metadata={'token_usage': {'completion_tokens': 34, 'prompt_tokens': 153, 'total_tokens': 187, 'completion_tokens_details': {'accepted_prediction_tokens': 0, 'audio_tokens': 0, 'reasoning_tokens': 0, 'rejected_prediction_tokens': 0}, 'prompt_tokens_details': {'audio_tokens': 0, 'cached_tokens': 0}}, 'model_name': 'gpt-4.1-mini-2025-04-14', 'system_fingerprint': 'fp_6f2eabb9a5', 'id': 'chatcmpl-BeVrJQpMHVfTGlKzw82kCnfHwdN96', 'service_tier': 'default', 'finish_reason': 'stop', 'logprobs': None}, id='run--6d27d8b6-6371-4f31-a477-f1fa714209b3-0', usage_metadata={'input_tokens': 153, 'output_tokens': 34, 'total_tokens': 187, 'input_token_details': {'audio': 0, 'cache_read': 0}, 'output_token_details': {'audio': 0, 'reasoning': 0}})]}"
      ]
     },
     "execution_count": 3,
     "metadata": {},
     "output_type": "execute_result"
    }
   ],
   "source": [
    "agent.invoke({\n",
    "    \"messages\":[{\"role\": \"user\",\"content\":\"what about Rajamundry\"}]\n",
    "},\n",
    "  config\n",
    "  )"
   ]
  },
  {
   "cell_type": "code",
   "execution_count": 4,
   "id": "9f7a591e",
   "metadata": {},
   "outputs": [],
   "source": [
    "from pydantic import BaseModel\n",
    "\n",
    "class WeatherResp(BaseModel):\n",
    "    conditions: str\n",
    "    \n",
    "agent= create_react_agent(\n",
    "    model,\n",
    "    tools=[get_weather],\n",
    "    response_format=WeatherResp\n",
    ")\n",
    "\n",
    "\n",
    "resp=agent.invoke({\n",
    "    \"messages\":[{\"role\": \"user\",\"content\":\"what about Rajamundry\"}]\n",
    "},)"
   ]
  },
  {
   "cell_type": "code",
   "execution_count": 5,
   "id": "5225cf20",
   "metadata": {},
   "outputs": [
    {
     "data": {
      "text/plain": [
       "'Its always rainy in Rajamundry'"
      ]
     },
     "execution_count": 5,
     "metadata": {},
     "output_type": "execute_result"
    }
   ],
   "source": [
    "resp[\"structured_response\"].conditions"
   ]
  },
  {
   "cell_type": "code",
   "execution_count": 6,
   "id": "eaa4cc26",
   "metadata": {},
   "outputs": [],
   "source": [
    "from typing import Annotated\n",
    "from typing_extensions import TypedDict\n",
    "\n",
    "from langgraph.graph import StateGraph,START\n",
    "from langgraph.graph import add_messages\n",
    "\n",
    "class State(TypedDict):\n",
    "    messages: Annotated[list,add_messages]\n",
    "    \n",
    "graph_builder=StateGraph(State)\n",
    "\n",
    "llm=init_chat_model(\"openai:gpt-4.1\")\n",
    "\n",
    "def chatbot(state: State):\n",
    "    return {\"messages\":[llm.invoke(state[\"messages\"])]}\n",
    "\n",
    "graph_builder.add_node(\"chatbot\",chatbot)\n",
    "\n",
    "graph_builder.add_edge(START,\"chatbot\")\n",
    "\n",
    "graph=graph_builder.compile()\n"
   ]
  },
  {
   "cell_type": "code",
   "execution_count": 7,
   "id": "e7f4cd65",
   "metadata": {},
   "outputs": [
    {
     "name": "stdout",
     "output_type": "stream",
     "text": [
      "Requirement already satisfied: ipython in c:\\users\\kanna\\appdata\\local\\programs\\python\\python311\\lib\\site-packages (9.3.0)\n",
      "Requirement already satisfied: colorama in c:\\users\\kanna\\appdata\\roaming\\python\\python311\\site-packages (from ipython) (0.4.6)\n",
      "Requirement already satisfied: decorator in c:\\users\\kanna\\appdata\\roaming\\python\\python311\\site-packages (from ipython) (5.1.1)\n",
      "Requirement already satisfied: ipython-pygments-lexers in c:\\users\\kanna\\appdata\\local\\programs\\python\\python311\\lib\\site-packages (from ipython) (1.1.1)\n",
      "Requirement already satisfied: jedi>=0.16 in c:\\users\\kanna\\appdata\\roaming\\python\\python311\\site-packages (from ipython) (0.19.1)\n",
      "Requirement already satisfied: matplotlib-inline in c:\\users\\kanna\\appdata\\roaming\\python\\python311\\site-packages (from ipython) (0.1.6)\n",
      "Requirement already satisfied: prompt_toolkit<3.1.0,>=3.0.41 in c:\\users\\kanna\\appdata\\roaming\\python\\python311\\site-packages (from ipython) (3.0.43)\n",
      "Requirement already satisfied: pygments>=2.4.0 in c:\\users\\kanna\\appdata\\roaming\\python\\python311\\site-packages (from ipython) (2.17.2)\n",
      "Requirement already satisfied: stack_data in c:\\users\\kanna\\appdata\\roaming\\python\\python311\\site-packages (from ipython) (0.6.3)\n",
      "Requirement already satisfied: traitlets>=5.13.0 in c:\\users\\kanna\\appdata\\roaming\\python\\python311\\site-packages (from ipython) (5.14.1)\n",
      "Requirement already satisfied: typing_extensions>=4.6 in c:\\users\\kanna\\appdata\\local\\programs\\python\\python311\\lib\\site-packages (from ipython) (4.14.0)\n",
      "Requirement already satisfied: parso<0.9.0,>=0.8.3 in c:\\users\\kanna\\appdata\\roaming\\python\\python311\\site-packages (from jedi>=0.16->ipython) (0.8.3)\n",
      "Requirement already satisfied: wcwidth in c:\\users\\kanna\\appdata\\roaming\\python\\python311\\site-packages (from prompt_toolkit<3.1.0,>=3.0.41->ipython) (0.2.13)\n",
      "Requirement already satisfied: executing>=1.2.0 in c:\\users\\kanna\\appdata\\roaming\\python\\python311\\site-packages (from stack_data->ipython) (2.0.1)\n",
      "Requirement already satisfied: asttokens>=2.1.0 in c:\\users\\kanna\\appdata\\roaming\\python\\python311\\site-packages (from stack_data->ipython) (2.4.1)\n",
      "Requirement already satisfied: pure-eval in c:\\users\\kanna\\appdata\\roaming\\python\\python311\\site-packages (from stack_data->ipython) (0.2.2)\n",
      "Requirement already satisfied: six>=1.12.0 in c:\\users\\kanna\\appdata\\roaming\\python\\python311\\site-packages (from asttokens>=2.1.0->stack_data->ipython) (1.16.0)\n"
     ]
    },
    {
     "name": "stderr",
     "output_type": "stream",
     "text": [
      "\n",
      "[notice] A new release of pip available: 22.3 -> 25.1.1\n",
      "[notice] To update, run: python.exe -m pip install --upgrade pip\n"
     ]
    }
   ],
   "source": [
    "! pip install -U ipython"
   ]
  },
  {
   "cell_type": "code",
   "execution_count": 8,
   "id": "5bb008bc",
   "metadata": {},
   "outputs": [
    {
     "data": {
      "image/png": "[encoded data removed]",
      "text/plain": [
       "<IPython.core.display.Image object>"
      ]
     },
     "metadata": {},
     "output_type": "display_data"
    }
   ],
   "source": [
    "from IPython.display import Image, display\n",
    "\n",
    "try:\n",
    "    display(Image(graph.get_graph().draw_mermaid_png()))\n",
    "except Exception:\n",
    "    # This requires some extra dependencies and is optional\n",
    "    pass"
   ]
  },
  {
   "cell_type": "code",
   "execution_count": 9,
   "id": "dfbaa511",
   "metadata": {},
   "outputs": [],
   "source": [
    "res=graph.invoke({\"messages\": [\"Hi Hello how are you\"]})"
   ]
  },
  {
   "cell_type": "code",
   "execution_count": 18,
   "id": "7b2dc8b1",
   "metadata": {},
   "outputs": [
    {
     "data": {
      "text/plain": [
       "\"Hello! I'm just a virtual assistant, so I don't have feelings, but I'm here and ready to help you. How can I assist you today?\""
      ]
     },
     "execution_count": 18,
     "metadata": {},
     "output_type": "execute_result"
    }
   ],
   "source": [
    "res[\"messages\"][-1].content"
   ]
  },
  {
   "cell_type": "code",
   "execution_count": 11,
   "id": "70562753",
   "metadata": {},
   "outputs": [],
   "source": [
    "def stream_graph_updates(user_input: str):\n",
    "    for event in graph.stream({\"messages\": [{\"role\": \"user\", \"content\": user_input}]}):\n",
    "        for value in event.values():\n",
    "            print(\"Assistant:\", value[\"messages\"][-1].content)"
   ]
  },
  {
   "cell_type": "code",
   "execution_count": 22,
   "id": "3dba6ea2",
   "metadata": {},
   "outputs": [
    {
     "name": "stdout",
     "output_type": "stream",
     "text": [
      "Assistant: The **future of AI** is one of the most discussed topics in technology, science, and society today. While no one can predict the future with complete certainty, current trends, expert insights, and research suggest several likely directions:\n",
      "\n",
      "---\n",
      "\n",
      "**1. Ubiquity and Integration**  \n",
      "AI will become increasingly embedded in daily life—powering everything from personal assistants and smart devices to healthcare, education, transportation, and entertainment. Many AI technologies that seem novel today (like chatbots, translation, or facial recognition) will become routine and taken for granted.\n",
      "\n",
      "---\n",
      "\n",
      "**2. Advancements in General Intelligence**  \n",
      "Today's AI is mostly \"narrow\" or specialized (good at specific tasks). Researchers are working towards Artificial General Intelligence (AGI), capable of understanding, learning, and reasoning across a broad range of tasks like humans. While AGI is still a long-term goal (probably decades away), incremental improvements will make AI systems more flexible and adaptive.\n",
      "\n",
      "---\n",
      "\n",
      "**3. Collaboration with Humans**  \n",
      "AI will augment, not just automate, human work. In fields like medicine, engineering, creative arts, and law, AI can act as a collaborator—offering suggestions, analyzing data, and enabling humans to focus on higher-level problem solving and creativity.\n",
      "\n",
      "---\n",
      "\n",
      "**4. Democratization and Accessibility**  \n",
      "As AI tools become easier to use and resources become more accessible, more people and organizations will be able to leverage AI capabilities, reducing barriers and increasing innovation.\n",
      "\n",
      "---\n",
      "\n",
      "**5. New Challenges and Risks**  \n",
      "AI brings with it concerns about privacy, security, bias, misinformation, and job displacement. The future will require effective regulation, ethical frameworks, transparency, and continued public discourse to manage these risks.\n",
      "\n",
      "---\n",
      "\n",
      "**6. Economical and Societal Impact**  \n",
      "AI may dramatically change job markets, economics, and social structures. Some jobs will be automated, but others will be created. Reskilling and adapting education systems will be crucial.\n",
      "\n",
      "---\n",
      "\n",
      "**7. Enhanced Creativity and Science**  \n",
      "AI systems are increasingly supporting scientific discovery (e.g., protein folding, materials design) and facilitating creative fields (music, art, writing). The pace of discovery in these areas may accelerate as AI helps explore complex problems faster than before.\n",
      "\n",
      "---\n",
      "\n",
      "**8. Alignment and Control**  \n",
      "Ensuring AI systems act in alignment with human values and intentions will remain a central research focus, especially as capabilities grow.\n",
      "\n",
      "---\n",
      "\n",
      "**Summary:**  \n",
      "The future of AI is likely to feature **widespread integration, rapid technical progress, new collaborations, and significant societal impacts**. Achieving the full benefits while minimizing risks will depend on thoughtful development, regulation, and global cooperation.\n",
      "\n",
      "---\n",
      "\n",
      "**Would you like to know more about any specific aspect—like AI in medicine, ethics, automation, or something else?**\n"
     ]
    }
   ],
   "source": [
    "stream_graph_updates(\"What is the Future of AI\")"
   ]
  },
  {
   "cell_type": "code",
   "execution_count": 23,
   "id": "91e9ef4e",
   "metadata": {},
   "outputs": [
    {
     "name": "stdout",
     "output_type": "stream",
     "text": [
      "Assistant: Your latest message was: “What question did I have asked you ?”\n",
      "\n",
      "If you're asking what your **previous question** was, that message **was itself** your first direct question to me in this conversation (unless there was an earlier message outside this chat that I cannot see). So before this, you hadn’t asked me any specific question. \n",
      "\n",
      "If you need to know about previous questions you asked in an earlier session or want help recalling or rephrasing a particular question, please give me more information!\n"
     ]
    }
   ],
   "source": [
    "stream_graph_updates(\"What question did I have asked you ?\")"
   ]
  },
  {
   "cell_type": "code",
   "execution_count": 1,
   "id": "71180479",
   "metadata": {},
   "outputs": [
    {
     "name": "stdout",
     "output_type": "stream",
     "text": [
      "Collecting langchain-tavily\n",
      "  Downloading langchain_tavily-0.2.0-py3-none-any.whl (23 kB)\n",
      "Collecting aiohttp<4.0.0,>=3.11.14\n",
      "  Downloading aiohttp-3.12.7-cp311-cp311-win_amd64.whl (449 kB)\n",
      "     -------------------------------------- 449.1/449.1 kB 7.0 MB/s eta 0:00:00\n",
      "Requirement already satisfied: langchain<0.4.0,>=0.3.20 in c:\\users\\kanna\\appdata\\local\\programs\\python\\python311\\lib\\site-packages (from langchain-tavily) (0.3.25)\n",
      "Requirement already satisfied: langchain-core<0.4.0,>=0.3.15 in c:\\users\\kanna\\appdata\\local\\programs\\python\\python311\\lib\\site-packages (from langchain-tavily) (0.3.63)\n",
      "Collecting mypy<2.0.0,>=1.15.0\n",
      "  Downloading mypy-1.16.0-cp311-cp311-win_amd64.whl (9.5 MB)\n",
      "     ---------------------------------------- 9.5/9.5 MB 4.4 MB/s eta 0:00:00\n",
      "Requirement already satisfied: requests<3.0.0,>=2.32.3 in c:\\users\\kanna\\appdata\\local\\programs\\python\\python311\\lib\\site-packages (from langchain-tavily) (2.32.3)\n",
      "Collecting aiohappyeyeballs>=2.5.0\n",
      "  Downloading aiohappyeyeballs-2.6.1-py3-none-any.whl (15 kB)\n",
      "Collecting aiosignal>=1.1.2\n",
      "  Using cached aiosignal-1.3.2-py2.py3-none-any.whl (7.6 kB)\n",
      "Collecting attrs>=17.3.0\n",
      "  Downloading attrs-25.3.0-py3-none-any.whl (63 kB)\n",
      "     ---------------------------------------- 63.8/63.8 kB 3.3 MB/s eta 0:00:00\n",
      "Collecting frozenlist>=1.1.1\n",
      "  Downloading frozenlist-1.6.2-cp311-cp311-win_amd64.whl (45 kB)\n",
      "     ---------------------------------------- 45.5/45.5 kB ? eta 0:00:00\n",
      "Collecting multidict<7.0,>=4.5\n",
      "  Downloading multidict-6.4.4-cp311-cp311-win_amd64.whl (38 kB)\n",
      "Collecting propcache>=0.2.0\n",
      "  Downloading propcache-0.3.1-cp311-cp311-win_amd64.whl (45 kB)\n",
      "     ---------------------------------------- 45.2/45.2 kB 1.1 MB/s eta 0:00:00\n",
      "Collecting yarl<2.0,>=1.17.0\n",
      "  Downloading yarl-1.20.0-cp311-cp311-win_amd64.whl (93 kB)\n",
      "     ---------------------------------------- 93.4/93.4 kB 2.7 MB/s eta 0:00:00\n",
      "Requirement already satisfied: langchain-text-splitters<1.0.0,>=0.3.8 in c:\\users\\kanna\\appdata\\local\\programs\\python\\python311\\lib\\site-packages (from langchain<0.4.0,>=0.3.20->langchain-tavily) (0.3.8)\n",
      "Requirement already satisfied: langsmith<0.4,>=0.1.17 in c:\\users\\kanna\\appdata\\local\\programs\\python\\python311\\lib\\site-packages (from langchain<0.4.0,>=0.3.20->langchain-tavily) (0.3.44)\n",
      "Requirement already satisfied: pydantic<3.0.0,>=2.7.4 in c:\\users\\kanna\\appdata\\local\\programs\\python\\python311\\lib\\site-packages (from langchain<0.4.0,>=0.3.20->langchain-tavily) (2.11.5)\n",
      "Requirement already satisfied: SQLAlchemy<3,>=1.4 in c:\\users\\kanna\\appdata\\local\\programs\\python\\python311\\lib\\site-packages (from langchain<0.4.0,>=0.3.20->langchain-tavily) (2.0.41)\n",
      "Requirement already satisfied: PyYAML>=5.3 in c:\\users\\kanna\\appdata\\local\\programs\\python\\python311\\lib\\site-packages (from langchain<0.4.0,>=0.3.20->langchain-tavily) (6.0.2)\n",
      "Requirement already satisfied: tenacity!=8.4.0,<10.0.0,>=8.1.0 in c:\\users\\kanna\\appdata\\local\\programs\\python\\python311\\lib\\site-packages (from langchain-core<0.4.0,>=0.3.15->langchain-tavily) (9.1.2)\n",
      "Requirement already satisfied: jsonpatch<2.0,>=1.33 in c:\\users\\kanna\\appdata\\local\\programs\\python\\python311\\lib\\site-packages (from langchain-core<0.4.0,>=0.3.15->langchain-tavily) (1.33)\n",
      "Requirement already satisfied: packaging<25,>=23.2 in c:\\users\\kanna\\appdata\\roaming\\python\\python311\\site-packages (from langchain-core<0.4.0,>=0.3.15->langchain-tavily) (23.2)\n",
      "Requirement already satisfied: typing-extensions>=4.7 in c:\\users\\kanna\\appdata\\local\\programs\\python\\python311\\lib\\site-packages (from langchain-core<0.4.0,>=0.3.15->langchain-tavily) (4.14.0)\n",
      "Collecting mypy_extensions>=1.0.0\n",
      "  Downloading mypy_extensions-1.1.0-py3-none-any.whl (5.0 kB)\n",
      "Collecting pathspec>=0.9.0\n",
      "  Downloading pathspec-0.12.1-py3-none-any.whl (31 kB)\n",
      "Requirement already satisfied: charset-normalizer<4,>=2 in c:\\users\\kanna\\appdata\\local\\programs\\python\\python311\\lib\\site-packages (from requests<3.0.0,>=2.32.3->langchain-tavily) (3.4.2)\n",
      "Requirement already satisfied: idna<4,>=2.5 in c:\\users\\kanna\\appdata\\local\\programs\\python\\python311\\lib\\site-packages (from requests<3.0.0,>=2.32.3->langchain-tavily) (3.10)\n",
      "Requirement already satisfied: urllib3<3,>=1.21.1 in c:\\users\\kanna\\appdata\\local\\programs\\python\\python311\\lib\\site-packages (from requests<3.0.0,>=2.32.3->langchain-tavily) (2.4.0)\n",
      "Requirement already satisfied: certifi>=2017.4.17 in c:\\users\\kanna\\appdata\\local\\programs\\python\\python311\\lib\\site-packages (from requests<3.0.0,>=2.32.3->langchain-tavily) (2025.4.26)\n",
      "Requirement already satisfied: jsonpointer>=1.9 in c:\\users\\kanna\\appdata\\local\\programs\\python\\python311\\lib\\site-packages (from jsonpatch<2.0,>=1.33->langchain-core<0.4.0,>=0.3.15->langchain-tavily) (3.0.0)\n",
      "Requirement already satisfied: httpx<1,>=0.23.0 in c:\\users\\kanna\\appdata\\local\\programs\\python\\python311\\lib\\site-packages (from langsmith<0.4,>=0.1.17->langchain<0.4.0,>=0.3.20->langchain-tavily) (0.28.1)\n",
      "Requirement already satisfied: orjson<4.0.0,>=3.9.14 in c:\\users\\kanna\\appdata\\local\\programs\\python\\python311\\lib\\site-packages (from langsmith<0.4,>=0.1.17->langchain<0.4.0,>=0.3.20->langchain-tavily) (3.10.18)\n",
      "Requirement already satisfied: requests-toolbelt<2.0.0,>=1.0.0 in c:\\users\\kanna\\appdata\\local\\programs\\python\\python311\\lib\\site-packages (from langsmith<0.4,>=0.1.17->langchain<0.4.0,>=0.3.20->langchain-tavily) (1.0.0)\n",
      "Requirement already satisfied: zstandard<0.24.0,>=0.23.0 in c:\\users\\kanna\\appdata\\local\\programs\\python\\python311\\lib\\site-packages (from langsmith<0.4,>=0.1.17->langchain<0.4.0,>=0.3.20->langchain-tavily) (0.23.0)\n",
      "Requirement already satisfied: annotated-types>=0.6.0 in c:\\users\\kanna\\appdata\\local\\programs\\python\\python311\\lib\\site-packages (from pydantic<3.0.0,>=2.7.4->langchain<0.4.0,>=0.3.20->langchain-tavily) (0.7.0)\n",
      "Requirement already satisfied: pydantic-core==2.33.2 in c:\\users\\kanna\\appdata\\local\\programs\\python\\python311\\lib\\site-packages (from pydantic<3.0.0,>=2.7.4->langchain<0.4.0,>=0.3.20->langchain-tavily) (2.33.2)\n",
      "Requirement already satisfied: typing-inspection>=0.4.0 in c:\\users\\kanna\\appdata\\local\\programs\\python\\python311\\lib\\site-packages (from pydantic<3.0.0,>=2.7.4->langchain<0.4.0,>=0.3.20->langchain-tavily) (0.4.1)\n",
      "Requirement already satisfied: greenlet>=1 in c:\\users\\kanna\\appdata\\local\\programs\\python\\python311\\lib\\site-packages (from SQLAlchemy<3,>=1.4->langchain<0.4.0,>=0.3.20->langchain-tavily) (3.2.2)\n",
      "Requirement already satisfied: anyio in c:\\users\\kanna\\appdata\\local\\programs\\python\\python311\\lib\\site-packages (from httpx<1,>=0.23.0->langsmith<0.4,>=0.1.17->langchain<0.4.0,>=0.3.20->langchain-tavily) (4.9.0)\n",
      "Requirement already satisfied: httpcore==1.* in c:\\users\\kanna\\appdata\\local\\programs\\python\\python311\\lib\\site-packages (from httpx<1,>=0.23.0->langsmith<0.4,>=0.1.17->langchain<0.4.0,>=0.3.20->langchain-tavily) (1.0.9)\n",
      "Requirement already satisfied: h11>=0.16 in c:\\users\\kanna\\appdata\\local\\programs\\python\\python311\\lib\\site-packages (from httpcore==1.*->httpx<1,>=0.23.0->langsmith<0.4,>=0.1.17->langchain<0.4.0,>=0.3.20->langchain-tavily) (0.16.0)\n",
      "Requirement already satisfied: sniffio>=1.1 in c:\\users\\kanna\\appdata\\local\\programs\\python\\python311\\lib\\site-packages (from anyio->httpx<1,>=0.23.0->langsmith<0.4,>=0.1.17->langchain<0.4.0,>=0.3.20->langchain-tavily) (1.3.1)\n",
      "Installing collected packages: propcache, pathspec, mypy_extensions, multidict, frozenlist, attrs, aiohappyeyeballs, yarl, mypy, aiosignal, aiohttp, langchain-tavily\n",
      "Successfully installed aiohappyeyeballs-2.6.1 aiohttp-3.12.7 aiosignal-1.3.2 attrs-25.3.0 frozenlist-1.6.2 langchain-tavily-0.2.0 multidict-6.4.4 mypy-1.16.0 mypy_extensions-1.1.0 pathspec-0.12.1 propcache-0.3.1 yarl-1.20.0\n"
     ]
    },
    {
     "name": "stderr",
     "output_type": "stream",
     "text": [
      "\n",
      "[notice] A new release of pip available: 22.3 -> 25.1.1\n",
      "[notice] To update, run: python.exe -m pip install --upgrade pip\n"
     ]
    }
   ],
   "source": [
    "! pip install -U langchain-tavily"
   ]
  },
  {
   "cell_type": "code",
   "execution_count": 4,
   "id": "8564214e",
   "metadata": {},
   "outputs": [
    {
     "name": "stdout",
     "output_type": "stream",
     "text": [
      "Collecting dotenv\n",
      "  Downloading dotenv-0.9.9-py2.py3-none-any.whl (1.9 kB)\n",
      "Collecting python-dotenv\n",
      "  Downloading python_dotenv-1.1.0-py3-none-any.whl (20 kB)\n",
      "Installing collected packages: python-dotenv, dotenv\n",
      "Successfully installed dotenv-0.9.9 python-dotenv-1.1.0\n"
     ]
    },
    {
     "name": "stderr",
     "output_type": "stream",
     "text": [
      "\n",
      "[notice] A new release of pip available: 22.3 -> 25.1.1\n",
      "[notice] To update, run: python.exe -m pip install --upgrade pip\n"
     ]
    }
   ],
   "source": [
    "! pip install dotenv"
   ]
  },
  {
   "cell_type": "code",
   "execution_count": 5,
   "id": "d5c54487",
   "metadata": {},
   "outputs": [
    {
     "data": {
      "text/plain": [
       "True"
      ]
     },
     "execution_count": 5,
     "metadata": {},
     "output_type": "execute_result"
    }
   ],
   "source": [
    "from dotenv import load_dotenv\n",
    "\n",
    "load_dotenv()"
   ]
  },
  {
   "cell_type": "code",
   "execution_count": 13,
   "id": "926801ff",
   "metadata": {},
   "outputs": [
    {
     "data": {
      "text/plain": [
       "'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'"
      ]
     },
     "execution_count": 13,
     "metadata": {},
     "output_type": "execute_result"
    }
   ],
   "source": [
    "import os\n",
    "os.getenv(\"TAVILY_API_KEY\")"
   ]
  },
  {
   "cell_type": "code",
   "execution_count": 14,
   "id": "286628ec",
   "metadata": {},
   "outputs": [
    {
     "data": {
      "text/plain": [
       "{'error': ValueError('Error 401: Unauthorized: missing or invalid API key.')}"
      ]
     },
     "execution_count": 14,
     "metadata": {},
     "output_type": "execute_result"
    }
   ],
   "source": [
    "from langchain_tavily import TavilySearch\n",
    "\n",
    "tool=TavilySearch(max_results=2,\n",
    "                  api_key=os.getenv(\"TAVILY_API_KEY\"))\n",
    "tools=[tool]\n",
    "\n",
    "tool.invoke(\"Who is the current president of the USA\")"
   ]
  },
  {
   "cell_type": "code",
   "execution_count": null,
   "id": "276305dd",
   "metadata": {},
   "outputs": [
    {
     "ename": "NameError",
     "evalue": "name '_set_env' is not defined",
     "output_type": "error",
     "traceback": [
      "\u001b[31m---------------------------------------------------------------------------\u001b[39m",
      "\u001b[31mNameError\u001b[39m                                 Traceback (most recent call last)",
      "\u001b[36mCell\u001b[39m\u001b[36m \u001b[39m\u001b[32mIn[3]\u001b[39m\u001b[32m, line 1\u001b[39m\n\u001b[32m----> \u001b[39m\u001b[32m1\u001b[39m \u001b[43m_set_env\u001b[49m(\u001b[33m\"\u001b[39m\u001b[33mTAVILY_API_KEY\u001b[39m\u001b[33m\"\u001b[39m)\n",
      "\u001b[31mNameError\u001b[39m: name '_set_env' is not defined"
     ]
    }
   ],
   "source": []
  },
  {
   "cell_type": "code",
   "execution_count": null,
   "id": "2c495bb8",
   "metadata": {},
   "outputs": [],
   "source": []
  }
 ],
 "metadata": {
  "kernelspec": {
   "display_name": "Python 3",
   "language": "python",
   "name": "python3"
  },
  "language_info": {
   "codemirror_mode": {
    "name": "ipython",
    "version": 3
   },
   "file_extension": ".py",
   "mimetype": "text/x-python",
   "name": "python",
   "nbconvert_exporter": "python",
   "pygments_lexer": "ipython3",
   "version": "3.11.0"
  }
 },
 "nbformat": 4,
 "nbformat_minor": 5
}
