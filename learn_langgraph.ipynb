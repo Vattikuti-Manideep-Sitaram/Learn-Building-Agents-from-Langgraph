{
 "cells": [
  {
   "cell_type": "code",
   "execution_count": 6,
   "id": "f4fe9860",
   "metadata": {},
   "outputs": [
    {
     "name": "stdout",
     "output_type": "stream",
     "text": [
      "Requirement already satisfied: langgraph in c:\\users\\kanna\\appdata\\local\\programs\\python\\python311\\lib\\site-packages (0.4.8)\n",
      "Requirement already satisfied: langchain-openai in c:\\users\\kanna\\appdata\\local\\programs\\python\\python311\\lib\\site-packages (0.3.19)\n",
      "Collecting langchain\n",
      "  Downloading langchain-0.3.25-py3-none-any.whl (1.0 MB)\n",
      "     ---------------------------------------- 1.0/1.0 MB 8.0 MB/s eta 0:00:00\n",
      "Requirement already satisfied: langchain-core>=0.1 in c:\\users\\kanna\\appdata\\local\\programs\\python\\python311\\lib\\site-packages (from langgraph) (0.3.63)\n",
      "Requirement already satisfied: langgraph-checkpoint>=2.0.26 in c:\\users\\kanna\\appdata\\local\\programs\\python\\python311\\lib\\site-packages (from langgraph) (2.0.26)\n",
      "Requirement already satisfied: langgraph-prebuilt>=0.2.0 in c:\\users\\kanna\\appdata\\local\\programs\\python\\python311\\lib\\site-packages (from langgraph) (0.2.2)\n",
      "Requirement already satisfied: langgraph-sdk>=0.1.42 in c:\\users\\kanna\\appdata\\local\\programs\\python\\python311\\lib\\site-packages (from langgraph) (0.1.70)\n",
      "Requirement already satisfied: pydantic>=2.7.4 in c:\\users\\kanna\\appdata\\local\\programs\\python\\python311\\lib\\site-packages (from langgraph) (2.11.5)\n",
      "Requirement already satisfied: xxhash>=3.5.0 in c:\\users\\kanna\\appdata\\local\\programs\\python\\python311\\lib\\site-packages (from langgraph) (3.5.0)\n",
      "Requirement already satisfied: openai<2.0.0,>=1.68.2 in c:\\users\\kanna\\appdata\\local\\programs\\python\\python311\\lib\\site-packages (from langchain-openai) (1.83.0)\n",
      "Requirement already satisfied: tiktoken<1,>=0.7 in c:\\users\\kanna\\appdata\\local\\programs\\python\\python311\\lib\\site-packages (from langchain-openai) (0.9.0)\n",
      "Collecting langchain-text-splitters<1.0.0,>=0.3.8\n",
      "  Downloading langchain_text_splitters-0.3.8-py3-none-any.whl (32 kB)\n",
      "Requirement already satisfied: langsmith<0.4,>=0.1.17 in c:\\users\\kanna\\appdata\\local\\programs\\python\\python311\\lib\\site-packages (from langchain) (0.3.44)\n",
      "Collecting SQLAlchemy<3,>=1.4\n",
      "  Downloading sqlalchemy-2.0.41-cp311-cp311-win_amd64.whl (2.1 MB)\n",
      "     ---------------------------------------- 2.1/2.1 MB 9.6 MB/s eta 0:00:00\n",
      "Requirement already satisfied: requests<3,>=2 in c:\\users\\kanna\\appdata\\local\\programs\\python\\python311\\lib\\site-packages (from langchain) (2.32.3)\n",
      "Requirement already satisfied: PyYAML>=5.3 in c:\\users\\kanna\\appdata\\local\\programs\\python\\python311\\lib\\site-packages (from langchain) (6.0.2)\n",
      "Requirement already satisfied: tenacity!=8.4.0,<10.0.0,>=8.1.0 in c:\\users\\kanna\\appdata\\local\\programs\\python\\python311\\lib\\site-packages (from langchain-core>=0.1->langgraph) (9.1.2)\n",
      "Requirement already satisfied: jsonpatch<2.0,>=1.33 in c:\\users\\kanna\\appdata\\local\\programs\\python\\python311\\lib\\site-packages (from langchain-core>=0.1->langgraph) (1.33)\n",
      "Requirement already satisfied: packaging<25,>=23.2 in c:\\users\\kanna\\appdata\\roaming\\python\\python311\\site-packages (from langchain-core>=0.1->langgraph) (23.2)\n",
      "Requirement already satisfied: typing-extensions>=4.7 in c:\\users\\kanna\\appdata\\local\\programs\\python\\python311\\lib\\site-packages (from langchain-core>=0.1->langgraph) (4.14.0)\n",
      "Requirement already satisfied: ormsgpack<2.0.0,>=1.8.0 in c:\\users\\kanna\\appdata\\local\\programs\\python\\python311\\lib\\site-packages (from langgraph-checkpoint>=2.0.26->langgraph) (1.10.0)\n",
      "Requirement already satisfied: httpx>=0.25.2 in c:\\users\\kanna\\appdata\\local\\programs\\python\\python311\\lib\\site-packages (from langgraph-sdk>=0.1.42->langgraph) (0.28.1)\n",
      "Requirement already satisfied: orjson>=3.10.1 in c:\\users\\kanna\\appdata\\local\\programs\\python\\python311\\lib\\site-packages (from langgraph-sdk>=0.1.42->langgraph) (3.10.18)\n",
      "Requirement already satisfied: requests-toolbelt<2.0.0,>=1.0.0 in c:\\users\\kanna\\appdata\\local\\programs\\python\\python311\\lib\\site-packages (from langsmith<0.4,>=0.1.17->langchain) (1.0.0)\n",
      "Requirement already satisfied: zstandard<0.24.0,>=0.23.0 in c:\\users\\kanna\\appdata\\local\\programs\\python\\python311\\lib\\site-packages (from langsmith<0.4,>=0.1.17->langchain) (0.23.0)\n",
      "Requirement already satisfied: anyio<5,>=3.5.0 in c:\\users\\kanna\\appdata\\local\\programs\\python\\python311\\lib\\site-packages (from openai<2.0.0,>=1.68.2->langchain-openai) (4.9.0)\n",
      "Requirement already satisfied: distro<2,>=1.7.0 in c:\\users\\kanna\\appdata\\local\\programs\\python\\python311\\lib\\site-packages (from openai<2.0.0,>=1.68.2->langchain-openai) (1.9.0)\n",
      "Requirement already satisfied: jiter<1,>=0.4.0 in c:\\users\\kanna\\appdata\\local\\programs\\python\\python311\\lib\\site-packages (from openai<2.0.0,>=1.68.2->langchain-openai) (0.10.0)\n",
      "Requirement already satisfied: sniffio in c:\\users\\kanna\\appdata\\local\\programs\\python\\python311\\lib\\site-packages (from openai<2.0.0,>=1.68.2->langchain-openai) (1.3.1)\n",
      "Requirement already satisfied: tqdm>4 in c:\\users\\kanna\\appdata\\local\\programs\\python\\python311\\lib\\site-packages (from openai<2.0.0,>=1.68.2->langchain-openai) (4.67.1)\n",
      "Requirement already satisfied: annotated-types>=0.6.0 in c:\\users\\kanna\\appdata\\local\\programs\\python\\python311\\lib\\site-packages (from pydantic>=2.7.4->langgraph) (0.7.0)\n",
      "Requirement already satisfied: pydantic-core==2.33.2 in c:\\users\\kanna\\appdata\\local\\programs\\python\\python311\\lib\\site-packages (from pydantic>=2.7.4->langgraph) (2.33.2)\n",
      "Requirement already satisfied: typing-inspection>=0.4.0 in c:\\users\\kanna\\appdata\\local\\programs\\python\\python311\\lib\\site-packages (from pydantic>=2.7.4->langgraph) (0.4.1)\n",
      "Requirement already satisfied: charset-normalizer<4,>=2 in c:\\users\\kanna\\appdata\\local\\programs\\python\\python311\\lib\\site-packages (from requests<3,>=2->langchain) (3.4.2)\n",
      "Requirement already satisfied: idna<4,>=2.5 in c:\\users\\kanna\\appdata\\local\\programs\\python\\python311\\lib\\site-packages (from requests<3,>=2->langchain) (3.10)\n",
      "Requirement already satisfied: urllib3<3,>=1.21.1 in c:\\users\\kanna\\appdata\\local\\programs\\python\\python311\\lib\\site-packages (from requests<3,>=2->langchain) (2.4.0)\n",
      "Requirement already satisfied: certifi>=2017.4.17 in c:\\users\\kanna\\appdata\\local\\programs\\python\\python311\\lib\\site-packages (from requests<3,>=2->langchain) (2025.4.26)\n",
      "Collecting greenlet>=1\n",
      "  Downloading greenlet-3.2.2-cp311-cp311-win_amd64.whl (295 kB)\n",
      "     -------------------------------------- 295.4/295.4 kB 9.2 MB/s eta 0:00:00\n",
      "Requirement already satisfied: regex>=2022.1.18 in c:\\users\\kanna\\appdata\\local\\programs\\python\\python311\\lib\\site-packages (from tiktoken<1,>=0.7->langchain-openai) (2024.11.6)\n",
      "Requirement already satisfied: httpcore==1.* in c:\\users\\kanna\\appdata\\local\\programs\\python\\python311\\lib\\site-packages (from httpx>=0.25.2->langgraph-sdk>=0.1.42->langgraph) (1.0.9)\n",
      "Requirement already satisfied: h11>=0.16 in c:\\users\\kanna\\appdata\\local\\programs\\python\\python311\\lib\\site-packages (from httpcore==1.*->httpx>=0.25.2->langgraph-sdk>=0.1.42->langgraph) (0.16.0)\n",
      "Requirement already satisfied: jsonpointer>=1.9 in c:\\users\\kanna\\appdata\\local\\programs\\python\\python311\\lib\\site-packages (from jsonpatch<2.0,>=1.33->langchain-core>=0.1->langgraph) (3.0.0)\n",
      "Requirement already satisfied: colorama in c:\\users\\kanna\\appdata\\roaming\\python\\python311\\site-packages (from tqdm>4->openai<2.0.0,>=1.68.2->langchain-openai) (0.4.6)\n",
      "Installing collected packages: greenlet, SQLAlchemy, langchain-text-splitters, langchain\n",
      "Successfully installed SQLAlchemy-2.0.41 greenlet-3.2.2 langchain-0.3.25 langchain-text-splitters-0.3.8\n"
     ]
    },
    {
     "name": "stderr",
     "output_type": "stream",
     "text": [
      "\n",
      "[notice] A new release of pip available: 22.3 -> 25.1.1\n",
      "[notice] To update, run: python.exe -m pip install --upgrade pip\n"
     ]
    }
   ],
   "source": [
    "! pip install -U langgraph langchain-openai langchain"
   ]
  },
  {
   "cell_type": "code",
   "execution_count": null,
   "id": "713aa0a8",
   "metadata": {},
   "outputs": [
    {
     "data": {
      "text/plain": [
       "{'messages': [HumanMessage(content='what is weather in Hyderabad', additional_kwargs={}, response_metadata={}, id='54dafa1e-f04e-427c-b13f-ffe896a99dc9'),\n",
       "  AIMessage(content='', additional_kwargs={'tool_calls': [{'id': 'call_iSdHMx0sWW6UTjnFXwB0pQhN', 'function': {'arguments': '{\"city\":\"Hyderabad\"}', 'name': 'get_weather'}, 'type': 'function'}], 'refusal': None}, response_metadata={'token_usage': {'completion_tokens': 15, 'prompt_tokens': 55, 'total_tokens': 70, 'completion_tokens_details': {'accepted_prediction_tokens': 0, 'audio_tokens': 0, 'reasoning_tokens': 0, 'rejected_prediction_tokens': 0}, 'prompt_tokens_details': {'audio_tokens': 0, 'cached_tokens': 0}}, 'model_name': 'gpt-4.1-mini-2025-04-14', 'system_fingerprint': 'fp_6f2eabb9a5', 'id': 'chatcmpl-BeKKbWG21NcexIobNtK2p3sY2uGrI', 'service_tier': 'default', 'finish_reason': 'tool_calls', 'logprobs': None}, id='run--89a44250-c813-4e1e-b237-2c04eec54191-0', tool_calls=[{'name': 'get_weather', 'args': {'city': 'Hyderabad'}, 'id': 'call_iSdHMx0sWW6UTjnFXwB0pQhN', 'type': 'tool_call'}], usage_metadata={'input_tokens': 55, 'output_tokens': 15, 'total_tokens': 70, 'input_token_details': {'audio': 0, 'cache_read': 0}, 'output_token_details': {'audio': 0, 'reasoning': 0}}),\n",
       "  ToolMessage(content='Its always rainy in Hyderabad', name='get_weather', id='b6790bd7-94b9-4581-8790-f0750b6a58e8', tool_call_id='call_iSdHMx0sWW6UTjnFXwB0pQhN'),\n",
       "  AIMessage(content='The weather in Hyderabad is currently rainy. If you need more detailed information or a forecast, please let me know!', additional_kwargs={'refusal': None}, response_metadata={'token_usage': {'completion_tokens': 24, 'prompt_tokens': 83, 'total_tokens': 107, 'completion_tokens_details': {'accepted_prediction_tokens': 0, 'audio_tokens': 0, 'reasoning_tokens': 0, 'rejected_prediction_tokens': 0}, 'prompt_tokens_details': {'audio_tokens': 0, 'cached_tokens': 0}}, 'model_name': 'gpt-4.1-mini-2025-04-14', 'system_fingerprint': 'fp_6f2eabb9a5', 'id': 'chatcmpl-BeKKcdqYy3aFuSUE27Dkdme3hEbto', 'service_tier': 'default', 'finish_reason': 'stop', 'logprobs': None}, id='run--ca52e00d-12d5-432e-bb6b-1950b6bb4982-0', usage_metadata={'input_tokens': 83, 'output_tokens': 24, 'total_tokens': 107, 'input_token_details': {'audio': 0, 'cache_read': 0}, 'output_token_details': {'audio': 0, 'reasoning': 0}})]}"
      ]
     },
     "execution_count": 11,
     "metadata": {},
     "output_type": "execute_result"
    }
   ],
   "source": [
    "from langgraph.prebuilt import create_react_agent\n",
    "from langchain.chat_models import init_chat_model\n",
    "from langgraph.checkpoint.memory import InMemorySaver\n",
    "\n",
    "def get_weather(city:str) -> str:\n",
    "    \"\"\"Get weather for a given city\"\"\"\n",
    "    return f\"Its always rainy in {city}\"\n",
    "\n",
    "\n",
    "checkpointer = InMemorySaver()\n",
    "\n",
    "model=init_chat_model(\n",
    "    \"gpt-4.1-mini\",\n",
    "    temperature=0\n",
    ")\n",
    "\n",
    "config = {\"configurable\": {\"threasdfadsfad_id\":\"1\"}}\n",
    "\n",
    "agent=create_react_agent(\n",
    "    model=model,\n",
    "    tools=[get_weather],\n",
    "    checkpointer=checkpointer,\n",
    "    prompt=\"You are an helpful assistant\"\n",
    ")\n",
    "\n",
    "agent.invoke({\n",
    "    \"messages\":[{\"role\": \"user\",\"content\":\"what is weather in Hyderabad\"}]\n",
    "},\n",
    "  config\n",
    "  )"
   ]
  },
  {
   "cell_type": "code",
   "execution_count": 12,
   "id": "bd4b85f2",
   "metadata": {},
   "outputs": [
    {
     "data": {
      "text/plain": [
       "{'messages': [HumanMessage(content='what is weather in Hyderabad', additional_kwargs={}, response_metadata={}, id='54dafa1e-f04e-427c-b13f-ffe896a99dc9'),\n",
       "  AIMessage(content='', additional_kwargs={'tool_calls': [{'id': 'call_iSdHMx0sWW6UTjnFXwB0pQhN', 'function': {'arguments': '{\"city\":\"Hyderabad\"}', 'name': 'get_weather'}, 'type': 'function'}], 'refusal': None}, response_metadata={'token_usage': {'completion_tokens': 15, 'prompt_tokens': 55, 'total_tokens': 70, 'completion_tokens_details': {'accepted_prediction_tokens': 0, 'audio_tokens': 0, 'reasoning_tokens': 0, 'rejected_prediction_tokens': 0}, 'prompt_tokens_details': {'audio_tokens': 0, 'cached_tokens': 0}}, 'model_name': 'gpt-4.1-mini-2025-04-14', 'system_fingerprint': 'fp_6f2eabb9a5', 'id': 'chatcmpl-BeKKbWG21NcexIobNtK2p3sY2uGrI', 'service_tier': 'default', 'finish_reason': 'tool_calls', 'logprobs': None}, id='run--89a44250-c813-4e1e-b237-2c04eec54191-0', tool_calls=[{'name': 'get_weather', 'args': {'city': 'Hyderabad'}, 'id': 'call_iSdHMx0sWW6UTjnFXwB0pQhN', 'type': 'tool_call'}], usage_metadata={'input_tokens': 55, 'output_tokens': 15, 'total_tokens': 70, 'input_token_details': {'audio': 0, 'cache_read': 0}, 'output_token_details': {'audio': 0, 'reasoning': 0}}),\n",
       "  ToolMessage(content='Its always rainy in Hyderabad', name='get_weather', id='b6790bd7-94b9-4581-8790-f0750b6a58e8', tool_call_id='call_iSdHMx0sWW6UTjnFXwB0pQhN'),\n",
       "  AIMessage(content='The weather in Hyderabad is currently rainy. If you need more detailed information or a forecast, please let me know!', additional_kwargs={'refusal': None}, response_metadata={'token_usage': {'completion_tokens': 24, 'prompt_tokens': 83, 'total_tokens': 107, 'completion_tokens_details': {'accepted_prediction_tokens': 0, 'audio_tokens': 0, 'reasoning_tokens': 0, 'rejected_prediction_tokens': 0}, 'prompt_tokens_details': {'audio_tokens': 0, 'cached_tokens': 0}}, 'model_name': 'gpt-4.1-mini-2025-04-14', 'system_fingerprint': 'fp_6f2eabb9a5', 'id': 'chatcmpl-BeKKcdqYy3aFuSUE27Dkdme3hEbto', 'service_tier': 'default', 'finish_reason': 'stop', 'logprobs': None}, id='run--ca52e00d-12d5-432e-bb6b-1950b6bb4982-0', usage_metadata={'input_tokens': 83, 'output_tokens': 24, 'total_tokens': 107, 'input_token_details': {'audio': 0, 'cache_read': 0}, 'output_token_details': {'audio': 0, 'reasoning': 0}}),\n",
       "  HumanMessage(content='what about Rajamundry', additional_kwargs={}, response_metadata={}, id='c73dc3ef-6bf2-4a6a-8593-4e8ec0398bc0'),\n",
       "  AIMessage(content='', additional_kwargs={'tool_calls': [{'id': 'call_LDI1Popvnr1htnYiI0HC8jNV', 'function': {'arguments': '{\"city\":\"Rajamundry\"}', 'name': 'get_weather'}, 'type': 'function'}], 'refusal': None}, response_metadata={'token_usage': {'completion_tokens': 17, 'prompt_tokens': 120, 'total_tokens': 137, 'completion_tokens_details': {'accepted_prediction_tokens': 0, 'audio_tokens': 0, 'reasoning_tokens': 0, 'rejected_prediction_tokens': 0}, 'prompt_tokens_details': {'audio_tokens': 0, 'cached_tokens': 0}}, 'model_name': 'gpt-4.1-mini-2025-04-14', 'system_fingerprint': 'fp_6f2eabb9a5', 'id': 'chatcmpl-BeKKg2QP5CCyty2yDlNA5ZhvuZh4i', 'service_tier': 'default', 'finish_reason': 'tool_calls', 'logprobs': None}, id='run--1cc62a62-9275-4d50-b3da-0eed337e7e64-0', tool_calls=[{'name': 'get_weather', 'args': {'city': 'Rajamundry'}, 'id': 'call_LDI1Popvnr1htnYiI0HC8jNV', 'type': 'tool_call'}], usage_metadata={'input_tokens': 120, 'output_tokens': 17, 'total_tokens': 137, 'input_token_details': {'audio': 0, 'cache_read': 0}, 'output_token_details': {'audio': 0, 'reasoning': 0}}),\n",
       "  ToolMessage(content='Its always rainy in Rajamundry', name='get_weather', id='583026f0-8d44-4fc5-8b77-95a8ff001bc8', tool_call_id='call_LDI1Popvnr1htnYiI0HC8jNV'),\n",
       "  AIMessage(content='The weather in Rajamundry is also currently rainy. If you need more details or weather information for another location, feel free to ask!', additional_kwargs={'refusal': None}, response_metadata={'token_usage': {'completion_tokens': 30, 'prompt_tokens': 153, 'total_tokens': 183, 'completion_tokens_details': {'accepted_prediction_tokens': 0, 'audio_tokens': 0, 'reasoning_tokens': 0, 'rejected_prediction_tokens': 0}, 'prompt_tokens_details': {'audio_tokens': 0, 'cached_tokens': 0}}, 'model_name': 'gpt-4.1-mini-2025-04-14', 'system_fingerprint': 'fp_6f2eabb9a5', 'id': 'chatcmpl-BeKKh7pXoF7IGPprZgWRJrRuPU6rg', 'service_tier': 'default', 'finish_reason': 'stop', 'logprobs': None}, id='run--fc22084a-a493-40fc-b972-dbc3a341eac0-0', usage_metadata={'input_tokens': 153, 'output_tokens': 30, 'total_tokens': 183, 'input_token_details': {'audio': 0, 'cache_read': 0}, 'output_token_details': {'audio': 0, 'reasoning': 0}})]}"
      ]
     },
     "execution_count": 12,
     "metadata": {},
     "output_type": "execute_result"
    }
   ],
   "source": [
    "agent.invoke({\n",
    "    \"messages\":[{\"role\": \"user\",\"content\":\"what about Rajamundry\"}]\n",
    "},\n",
    "  config\n",
    "  )"
   ]
  },
  {
   "cell_type": "code",
   "execution_count": null,
   "id": "9f7a591e",
   "metadata": {},
   "outputs": [],
   "source": []
  }
 ],
 "metadata": {
  "kernelspec": {
   "display_name": "Python 3",
   "language": "python",
   "name": "python3"
  },
  "language_info": {
   "codemirror_mode": {
    "name": "ipython",
    "version": 3
   },
   "file_extension": ".py",
   "mimetype": "text/x-python",
   "name": "python",
   "nbconvert_exporter": "python",
   "pygments_lexer": "ipython3",
   "version": "3.11.0"
  }
 },
 "nbformat": 4,
 "nbformat_minor": 5
}
