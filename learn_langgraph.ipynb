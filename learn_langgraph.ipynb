{
 "cells": [
  {
   "cell_type": "code",
   "execution_count": 74,
   "id": "f4fe9860",
   "metadata": {},
   "outputs": [
    {
     "name": "stdout",
     "output_type": "stream",
     "text": [
      "Requirement already satisfied: langgraph in c:\\users\\kanna\\appdata\\local\\programs\\python\\python311\\lib\\site-packages (0.4.8)\n",
      "Requirement already satisfied: langchain-openai in c:\\users\\kanna\\appdata\\local\\programs\\python\\python311\\lib\\site-packages (0.3.19)\n",
      "Requirement already satisfied: langchain in c:\\users\\kanna\\appdata\\local\\programs\\python\\python311\\lib\\site-packages (0.3.25)\n",
      "Requirement already satisfied: langsmith in c:\\users\\kanna\\appdata\\local\\programs\\python\\python311\\lib\\site-packages (0.3.44)\n",
      "Requirement already satisfied: langchain-core>=0.1 in c:\\users\\kanna\\appdata\\local\\programs\\python\\python311\\lib\\site-packages (from langgraph) (0.3.63)\n",
      "Requirement already satisfied: langgraph-checkpoint>=2.0.26 in c:\\users\\kanna\\appdata\\local\\programs\\python\\python311\\lib\\site-packages (from langgraph) (2.0.26)\n",
      "Requirement already satisfied: langgraph-prebuilt>=0.2.0 in c:\\users\\kanna\\appdata\\local\\programs\\python\\python311\\lib\\site-packages (from langgraph) (0.2.2)\n",
      "Requirement already satisfied: langgraph-sdk>=0.1.42 in c:\\users\\kanna\\appdata\\local\\programs\\python\\python311\\lib\\site-packages (from langgraph) (0.1.70)\n",
      "Requirement already satisfied: pydantic>=2.7.4 in c:\\users\\kanna\\appdata\\local\\programs\\python\\python311\\lib\\site-packages (from langgraph) (2.11.5)\n",
      "Requirement already satisfied: xxhash>=3.5.0 in c:\\users\\kanna\\appdata\\local\\programs\\python\\python311\\lib\\site-packages (from langgraph) (3.5.0)\n",
      "Requirement already satisfied: openai<2.0.0,>=1.68.2 in c:\\users\\kanna\\appdata\\local\\programs\\python\\python311\\lib\\site-packages (from langchain-openai) (1.83.0)\n",
      "Requirement already satisfied: tiktoken<1,>=0.7 in c:\\users\\kanna\\appdata\\local\\programs\\python\\python311\\lib\\site-packages (from langchain-openai) (0.9.0)\n",
      "Requirement already satisfied: langchain-text-splitters<1.0.0,>=0.3.8 in c:\\users\\kanna\\appdata\\local\\programs\\python\\python311\\lib\\site-packages (from langchain) (0.3.8)\n",
      "Requirement already satisfied: SQLAlchemy<3,>=1.4 in c:\\users\\kanna\\appdata\\local\\programs\\python\\python311\\lib\\site-packages (from langchain) (2.0.41)\n",
      "Requirement already satisfied: requests<3,>=2 in c:\\users\\kanna\\appdata\\local\\programs\\python\\python311\\lib\\site-packages (from langchain) (2.32.3)\n",
      "Requirement already satisfied: PyYAML>=5.3 in c:\\users\\kanna\\appdata\\local\\programs\\python\\python311\\lib\\site-packages (from langchain) (6.0.2)\n",
      "Requirement already satisfied: httpx<1,>=0.23.0 in c:\\users\\kanna\\appdata\\local\\programs\\python\\python311\\lib\\site-packages (from langsmith) (0.28.1)\n",
      "Requirement already satisfied: orjson<4.0.0,>=3.9.14 in c:\\users\\kanna\\appdata\\local\\programs\\python\\python311\\lib\\site-packages (from langsmith) (3.10.18)\n",
      "Requirement already satisfied: packaging>=23.2 in c:\\users\\kanna\\appdata\\roaming\\python\\python311\\site-packages (from langsmith) (23.2)\n",
      "Requirement already satisfied: requests-toolbelt<2.0.0,>=1.0.0 in c:\\users\\kanna\\appdata\\local\\programs\\python\\python311\\lib\\site-packages (from langsmith) (1.0.0)\n",
      "Requirement already satisfied: zstandard<0.24.0,>=0.23.0 in c:\\users\\kanna\\appdata\\local\\programs\\python\\python311\\lib\\site-packages (from langsmith) (0.23.0)\n",
      "Requirement already satisfied: anyio in c:\\users\\kanna\\appdata\\local\\programs\\python\\python311\\lib\\site-packages (from httpx<1,>=0.23.0->langsmith) (4.9.0)\n",
      "Requirement already satisfied: certifi in c:\\users\\kanna\\appdata\\local\\programs\\python\\python311\\lib\\site-packages (from httpx<1,>=0.23.0->langsmith) (2025.4.26)\n",
      "Requirement already satisfied: httpcore==1.* in c:\\users\\kanna\\appdata\\local\\programs\\python\\python311\\lib\\site-packages (from httpx<1,>=0.23.0->langsmith) (1.0.9)\n",
      "Requirement already satisfied: idna in c:\\users\\kanna\\appdata\\local\\programs\\python\\python311\\lib\\site-packages (from httpx<1,>=0.23.0->langsmith) (3.10)\n",
      "Requirement already satisfied: h11>=0.16 in c:\\users\\kanna\\appdata\\local\\programs\\python\\python311\\lib\\site-packages (from httpcore==1.*->httpx<1,>=0.23.0->langsmith) (0.16.0)\n",
      "Requirement already satisfied: tenacity!=8.4.0,<10.0.0,>=8.1.0 in c:\\users\\kanna\\appdata\\local\\programs\\python\\python311\\lib\\site-packages (from langchain-core>=0.1->langgraph) (9.1.2)\n",
      "Requirement already satisfied: jsonpatch<2.0,>=1.33 in c:\\users\\kanna\\appdata\\local\\programs\\python\\python311\\lib\\site-packages (from langchain-core>=0.1->langgraph) (1.33)\n",
      "Requirement already satisfied: typing-extensions>=4.7 in c:\\users\\kanna\\appdata\\local\\programs\\python\\python311\\lib\\site-packages (from langchain-core>=0.1->langgraph) (4.14.0)\n",
      "Requirement already satisfied: ormsgpack<2.0.0,>=1.8.0 in c:\\users\\kanna\\appdata\\local\\programs\\python\\python311\\lib\\site-packages (from langgraph-checkpoint>=2.0.26->langgraph) (1.10.0)\n",
      "Requirement already satisfied: distro<2,>=1.7.0 in c:\\users\\kanna\\appdata\\local\\programs\\python\\python311\\lib\\site-packages (from openai<2.0.0,>=1.68.2->langchain-openai) (1.9.0)\n",
      "Requirement already satisfied: jiter<1,>=0.4.0 in c:\\users\\kanna\\appdata\\local\\programs\\python\\python311\\lib\\site-packages (from openai<2.0.0,>=1.68.2->langchain-openai) (0.10.0)\n",
      "Requirement already satisfied: sniffio in c:\\users\\kanna\\appdata\\local\\programs\\python\\python311\\lib\\site-packages (from openai<2.0.0,>=1.68.2->langchain-openai) (1.3.1)\n",
      "Requirement already satisfied: tqdm>4 in c:\\users\\kanna\\appdata\\local\\programs\\python\\python311\\lib\\site-packages (from openai<2.0.0,>=1.68.2->langchain-openai) (4.67.1)\n",
      "Requirement already satisfied: annotated-types>=0.6.0 in c:\\users\\kanna\\appdata\\local\\programs\\python\\python311\\lib\\site-packages (from pydantic>=2.7.4->langgraph) (0.7.0)\n",
      "Requirement already satisfied: pydantic-core==2.33.2 in c:\\users\\kanna\\appdata\\local\\programs\\python\\python311\\lib\\site-packages (from pydantic>=2.7.4->langgraph) (2.33.2)\n",
      "Requirement already satisfied: typing-inspection>=0.4.0 in c:\\users\\kanna\\appdata\\local\\programs\\python\\python311\\lib\\site-packages (from pydantic>=2.7.4->langgraph) (0.4.1)\n",
      "Requirement already satisfied: charset-normalizer<4,>=2 in c:\\users\\kanna\\appdata\\local\\programs\\python\\python311\\lib\\site-packages (from requests<3,>=2->langchain) (3.4.2)\n",
      "Requirement already satisfied: urllib3<3,>=1.21.1 in c:\\users\\kanna\\appdata\\local\\programs\\python\\python311\\lib\\site-packages (from requests<3,>=2->langchain) (2.4.0)\n",
      "Requirement already satisfied: greenlet>=1 in c:\\users\\kanna\\appdata\\local\\programs\\python\\python311\\lib\\site-packages (from SQLAlchemy<3,>=1.4->langchain) (3.2.2)\n",
      "Requirement already satisfied: regex>=2022.1.18 in c:\\users\\kanna\\appdata\\local\\programs\\python\\python311\\lib\\site-packages (from tiktoken<1,>=0.7->langchain-openai) (2024.11.6)\n",
      "Requirement already satisfied: jsonpointer>=1.9 in c:\\users\\kanna\\appdata\\local\\programs\\python\\python311\\lib\\site-packages (from jsonpatch<2.0,>=1.33->langchain-core>=0.1->langgraph) (3.0.0)\n",
      "Requirement already satisfied: colorama in c:\\users\\kanna\\appdata\\roaming\\python\\python311\\site-packages (from tqdm>4->openai<2.0.0,>=1.68.2->langchain-openai) (0.4.6)\n"
     ]
    },
    {
     "name": "stderr",
     "output_type": "stream",
     "text": [
      "\n",
      "[notice] A new release of pip available: 22.3 -> 25.1.1\n",
      "[notice] To update, run: python.exe -m pip install --upgrade pip\n"
     ]
    }
   ],
   "source": [
    "! pip install -U langgraph langchain-openai langchain langsmith"
   ]
  },
  {
   "cell_type": "code",
   "execution_count": 75,
   "id": "713aa0a8",
   "metadata": {},
   "outputs": [
    {
     "data": {
      "text/plain": [
       "{'messages': [HumanMessage(content='what is weather in Hyderabad', additional_kwargs={}, response_metadata={}, id='8673d4b7-afe0-49f0-a20d-3e581407dc71'),\n",
       "  AIMessage(content='', additional_kwargs={'tool_calls': [{'id': 'call_HgpfToZidNltA0h6U2iKIQgh', 'function': {'arguments': '{\"city\":\"Hyderabad\"}', 'name': 'get_weather'}, 'type': 'function'}], 'refusal': None}, response_metadata={'token_usage': {'completion_tokens': 15, 'prompt_tokens': 55, 'total_tokens': 70, 'completion_tokens_details': {'accepted_prediction_tokens': 0, 'audio_tokens': 0, 'reasoning_tokens': 0, 'rejected_prediction_tokens': 0}, 'prompt_tokens_details': {'audio_tokens': 0, 'cached_tokens': 0}}, 'model_name': 'gpt-4.1-mini-2025-04-14', 'system_fingerprint': 'fp_6f2eabb9a5', 'id': 'chatcmpl-BebyL3Xq2pJuOdZ0tnei2fcXmuHKq', 'service_tier': 'default', 'finish_reason': 'tool_calls', 'logprobs': None}, id='run--90790ca9-491d-469f-8d71-aa41f10555f3-0', tool_calls=[{'name': 'get_weather', 'args': {'city': 'Hyderabad'}, 'id': 'call_HgpfToZidNltA0h6U2iKIQgh', 'type': 'tool_call'}], usage_metadata={'input_tokens': 55, 'output_tokens': 15, 'total_tokens': 70, 'input_token_details': {'audio': 0, 'cache_read': 0}, 'output_token_details': {'audio': 0, 'reasoning': 0}}),\n",
       "  ToolMessage(content='Its always rainy in Hyderabad', name='get_weather', id='3524ef81-26e3-473e-b4be-871446031622', tool_call_id='call_HgpfToZidNltA0h6U2iKIQgh'),\n",
       "  AIMessage(content='The weather in Hyderabad is currently rainy. If you need more detailed information or a forecast, please let me know!', additional_kwargs={'refusal': None}, response_metadata={'token_usage': {'completion_tokens': 24, 'prompt_tokens': 83, 'total_tokens': 107, 'completion_tokens_details': {'accepted_prediction_tokens': 0, 'audio_tokens': 0, 'reasoning_tokens': 0, 'rejected_prediction_tokens': 0}, 'prompt_tokens_details': {'audio_tokens': 0, 'cached_tokens': 0}}, 'model_name': 'gpt-4.1-mini-2025-04-14', 'system_fingerprint': 'fp_6f2eabb9a5', 'id': 'chatcmpl-BebyNElNT59rx3QJzvw7TXxFGmiQp', 'service_tier': 'default', 'finish_reason': 'stop', 'logprobs': None}, id='run--95634574-110e-426c-b94b-dacd76252ac3-0', usage_metadata={'input_tokens': 83, 'output_tokens': 24, 'total_tokens': 107, 'input_token_details': {'audio': 0, 'cache_read': 0}, 'output_token_details': {'audio': 0, 'reasoning': 0}})]}"
      ]
     },
     "execution_count": 75,
     "metadata": {},
     "output_type": "execute_result"
    }
   ],
   "source": [
    "from langgraph.prebuilt import create_react_agent\n",
    "from langchain.chat_models import init_chat_model\n",
    "from langgraph.checkpoint.memory import InMemorySaver\n",
    "\n",
    "def get_weather(city:str) -> str:\n",
    "    \"\"\"Get weather for a given city\"\"\"\n",
    "    return f\"Its always rainy in {city}\"\n",
    "\n",
    "\n",
    "checkpointer = InMemorySaver()\n",
    "\n",
    "model=init_chat_model(\n",
    "    \"gpt-4.1-mini\",\n",
    "    temperature=0\n",
    ")\n",
    "\n",
    "config = {\"configurable\": {\"thread_id\":\"1\"}}\n",
    "\n",
    "agent=create_react_agent(\n",
    "    model=model,\n",
    "    tools=[get_weather],\n",
    "    checkpointer=checkpointer,\n",
    "    prompt=\"You are an helpful assistant\"\n",
    ")\n",
    "\n",
    "agent.invoke({\n",
    "    \"messages\":[{\"role\": \"user\",\"content\":\"what is weather in Hyderabad\"}]\n",
    "},\n",
    "  config\n",
    "  )"
   ]
  },
  {
   "cell_type": "code",
   "execution_count": 76,
   "id": "bd4b85f2",
   "metadata": {},
   "outputs": [
    {
     "data": {
      "text/plain": [
       "{'messages': [HumanMessage(content='what is weather in Hyderabad', additional_kwargs={}, response_metadata={}, id='8673d4b7-afe0-49f0-a20d-3e581407dc71'),\n",
       "  AIMessage(content='', additional_kwargs={'tool_calls': [{'id': 'call_HgpfToZidNltA0h6U2iKIQgh', 'function': {'arguments': '{\"city\":\"Hyderabad\"}', 'name': 'get_weather'}, 'type': 'function'}], 'refusal': None}, response_metadata={'token_usage': {'completion_tokens': 15, 'prompt_tokens': 55, 'total_tokens': 70, 'completion_tokens_details': {'accepted_prediction_tokens': 0, 'audio_tokens': 0, 'reasoning_tokens': 0, 'rejected_prediction_tokens': 0}, 'prompt_tokens_details': {'audio_tokens': 0, 'cached_tokens': 0}}, 'model_name': 'gpt-4.1-mini-2025-04-14', 'system_fingerprint': 'fp_6f2eabb9a5', 'id': 'chatcmpl-BebyL3Xq2pJuOdZ0tnei2fcXmuHKq', 'service_tier': 'default', 'finish_reason': 'tool_calls', 'logprobs': None}, id='run--90790ca9-491d-469f-8d71-aa41f10555f3-0', tool_calls=[{'name': 'get_weather', 'args': {'city': 'Hyderabad'}, 'id': 'call_HgpfToZidNltA0h6U2iKIQgh', 'type': 'tool_call'}], usage_metadata={'input_tokens': 55, 'output_tokens': 15, 'total_tokens': 70, 'input_token_details': {'audio': 0, 'cache_read': 0}, 'output_token_details': {'audio': 0, 'reasoning': 0}}),\n",
       "  ToolMessage(content='Its always rainy in Hyderabad', name='get_weather', id='3524ef81-26e3-473e-b4be-871446031622', tool_call_id='call_HgpfToZidNltA0h6U2iKIQgh'),\n",
       "  AIMessage(content='The weather in Hyderabad is currently rainy. If you need more detailed information or a forecast, please let me know!', additional_kwargs={'refusal': None}, response_metadata={'token_usage': {'completion_tokens': 24, 'prompt_tokens': 83, 'total_tokens': 107, 'completion_tokens_details': {'accepted_prediction_tokens': 0, 'audio_tokens': 0, 'reasoning_tokens': 0, 'rejected_prediction_tokens': 0}, 'prompt_tokens_details': {'audio_tokens': 0, 'cached_tokens': 0}}, 'model_name': 'gpt-4.1-mini-2025-04-14', 'system_fingerprint': 'fp_6f2eabb9a5', 'id': 'chatcmpl-BebyNElNT59rx3QJzvw7TXxFGmiQp', 'service_tier': 'default', 'finish_reason': 'stop', 'logprobs': None}, id='run--95634574-110e-426c-b94b-dacd76252ac3-0', usage_metadata={'input_tokens': 83, 'output_tokens': 24, 'total_tokens': 107, 'input_token_details': {'audio': 0, 'cache_read': 0}, 'output_token_details': {'audio': 0, 'reasoning': 0}}),\n",
       "  HumanMessage(content='what about Rajamundry', additional_kwargs={}, response_metadata={}, id='83aa4c81-dad1-4e52-9668-e5727ffc1e14'),\n",
       "  AIMessage(content='', additional_kwargs={'tool_calls': [{'id': 'call_ytgxk5ZPzDernHg2gj6I5OUu', 'function': {'arguments': '{\"city\":\"Rajamundry\"}', 'name': 'get_weather'}, 'type': 'function'}], 'refusal': None}, response_metadata={'token_usage': {'completion_tokens': 17, 'prompt_tokens': 120, 'total_tokens': 137, 'completion_tokens_details': {'accepted_prediction_tokens': 0, 'audio_tokens': 0, 'reasoning_tokens': 0, 'rejected_prediction_tokens': 0}, 'prompt_tokens_details': {'audio_tokens': 0, 'cached_tokens': 0}}, 'model_name': 'gpt-4.1-mini-2025-04-14', 'system_fingerprint': 'fp_6f2eabb9a5', 'id': 'chatcmpl-BebyOz7o9TJ8eEi1WmlWW7TxMvUyy', 'service_tier': 'default', 'finish_reason': 'tool_calls', 'logprobs': None}, id='run--f4e3675e-ee27-428f-a106-6a606b551c31-0', tool_calls=[{'name': 'get_weather', 'args': {'city': 'Rajamundry'}, 'id': 'call_ytgxk5ZPzDernHg2gj6I5OUu', 'type': 'tool_call'}], usage_metadata={'input_tokens': 120, 'output_tokens': 17, 'total_tokens': 137, 'input_token_details': {'audio': 0, 'cache_read': 0}, 'output_token_details': {'audio': 0, 'reasoning': 0}}),\n",
       "  ToolMessage(content='Its always rainy in Rajamundry', name='get_weather', id='4717897c-e7d0-4380-8bc9-8b1aedb5ce65', tool_call_id='call_ytgxk5ZPzDernHg2gj6I5OUu'),\n",
       "  AIMessage(content='The weather in Rajamundry is also currently rainy. If you need more details or weather information for another location, feel free to ask!', additional_kwargs={'refusal': None}, response_metadata={'token_usage': {'completion_tokens': 30, 'prompt_tokens': 153, 'total_tokens': 183, 'completion_tokens_details': {'accepted_prediction_tokens': 0, 'audio_tokens': 0, 'reasoning_tokens': 0, 'rejected_prediction_tokens': 0}, 'prompt_tokens_details': {'audio_tokens': 0, 'cached_tokens': 0}}, 'model_name': 'gpt-4.1-mini-2025-04-14', 'system_fingerprint': 'fp_6f2eabb9a5', 'id': 'chatcmpl-BebyPMBrw8JvAuICNJilmkdDDqAtJ', 'service_tier': 'default', 'finish_reason': 'stop', 'logprobs': None}, id='run--74c42bec-51fc-46b1-a45e-cc20b7b5917b-0', usage_metadata={'input_tokens': 153, 'output_tokens': 30, 'total_tokens': 183, 'input_token_details': {'audio': 0, 'cache_read': 0}, 'output_token_details': {'audio': 0, 'reasoning': 0}})]}"
      ]
     },
     "execution_count": 76,
     "metadata": {},
     "output_type": "execute_result"
    }
   ],
   "source": [
    "agent.invoke({\n",
    "    \"messages\":[{\"role\": \"user\",\"content\":\"what about Rajamundry\"}]\n",
    "},\n",
    "  config\n",
    "  )"
   ]
  },
  {
   "cell_type": "code",
   "execution_count": 77,
   "id": "9f7a591e",
   "metadata": {},
   "outputs": [],
   "source": [
    "from pydantic import BaseModel\n",
    "\n",
    "class WeatherResp(BaseModel):\n",
    "    conditions: str\n",
    "    \n",
    "agent= create_react_agent(\n",
    "    model,\n",
    "    tools=[get_weather],\n",
    "    response_format=WeatherResp\n",
    ")\n",
    "\n",
    "\n",
    "resp=agent.invoke({\n",
    "    \"messages\":[{\"role\": \"user\",\"content\":\"what about Rajamundry\"}]\n",
    "},)"
   ]
  },
  {
   "cell_type": "code",
   "execution_count": 78,
   "id": "5225cf20",
   "metadata": {},
   "outputs": [
    {
     "data": {
      "text/plain": [
       "'Its always rainy in Rajamundry'"
      ]
     },
     "execution_count": 78,
     "metadata": {},
     "output_type": "execute_result"
    }
   ],
   "source": [
    "resp[\"structured_response\"].conditions"
   ]
  },
  {
   "cell_type": "code",
   "execution_count": 79,
   "id": "eaa4cc26",
   "metadata": {},
   "outputs": [],
   "source": [
    "from typing import Annotated\n",
    "from typing_extensions import TypedDict\n",
    "\n",
    "from langgraph.graph import StateGraph,START,END\n",
    "from langgraph.graph import add_messages\n",
    "\n",
    "class State(TypedDict):\n",
    "    messages: Annotated[list,add_messages]\n",
    "    \n",
    "graph_builder=StateGraph(State)\n",
    "\n",
    "llm=init_chat_model(\"openai:gpt-4.1\")\n",
    "\n",
    "def chatbot(state: State):\n",
    "    return {\"messages\":[llm.invoke(state[\"messages\"])]}\n",
    "\n",
    "graph_builder.add_node(\"chatbot\",chatbot)\n",
    "\n",
    "graph_builder.add_edge(START,\"chatbot\")\n",
    "\n",
    "graph=graph_builder.compile()\n"
   ]
  },
  {
   "cell_type": "code",
   "execution_count": 80,
   "id": "e7f4cd65",
   "metadata": {},
   "outputs": [
    {
     "name": "stdout",
     "output_type": "stream",
     "text": [
      "Requirement already satisfied: ipython in c:\\users\\kanna\\appdata\\local\\programs\\python\\python311\\lib\\site-packages (9.3.0)\n",
      "Requirement already satisfied: colorama in c:\\users\\kanna\\appdata\\roaming\\python\\python311\\site-packages (from ipython) (0.4.6)\n",
      "Requirement already satisfied: decorator in c:\\users\\kanna\\appdata\\roaming\\python\\python311\\site-packages (from ipython) (5.1.1)\n",
      "Requirement already satisfied: ipython-pygments-lexers in c:\\users\\kanna\\appdata\\local\\programs\\python\\python311\\lib\\site-packages (from ipython) (1.1.1)\n",
      "Requirement already satisfied: jedi>=0.16 in c:\\users\\kanna\\appdata\\roaming\\python\\python311\\site-packages (from ipython) (0.19.1)\n",
      "Requirement already satisfied: matplotlib-inline in c:\\users\\kanna\\appdata\\roaming\\python\\python311\\site-packages (from ipython) (0.1.6)\n",
      "Requirement already satisfied: prompt_toolkit<3.1.0,>=3.0.41 in c:\\users\\kanna\\appdata\\roaming\\python\\python311\\site-packages (from ipython) (3.0.43)\n",
      "Requirement already satisfied: pygments>=2.4.0 in c:\\users\\kanna\\appdata\\roaming\\python\\python311\\site-packages (from ipython) (2.17.2)\n",
      "Requirement already satisfied: stack_data in c:\\users\\kanna\\appdata\\roaming\\python\\python311\\site-packages (from ipython) (0.6.3)\n",
      "Requirement already satisfied: traitlets>=5.13.0 in c:\\users\\kanna\\appdata\\roaming\\python\\python311\\site-packages (from ipython) (5.14.1)\n",
      "Requirement already satisfied: typing_extensions>=4.6 in c:\\users\\kanna\\appdata\\local\\programs\\python\\python311\\lib\\site-packages (from ipython) (4.14.0)\n",
      "Requirement already satisfied: parso<0.9.0,>=0.8.3 in c:\\users\\kanna\\appdata\\roaming\\python\\python311\\site-packages (from jedi>=0.16->ipython) (0.8.3)\n",
      "Requirement already satisfied: wcwidth in c:\\users\\kanna\\appdata\\roaming\\python\\python311\\site-packages (from prompt_toolkit<3.1.0,>=3.0.41->ipython) (0.2.13)\n",
      "Requirement already satisfied: executing>=1.2.0 in c:\\users\\kanna\\appdata\\roaming\\python\\python311\\site-packages (from stack_data->ipython) (2.0.1)\n",
      "Requirement already satisfied: asttokens>=2.1.0 in c:\\users\\kanna\\appdata\\roaming\\python\\python311\\site-packages (from stack_data->ipython) (2.4.1)\n",
      "Requirement already satisfied: pure-eval in c:\\users\\kanna\\appdata\\roaming\\python\\python311\\site-packages (from stack_data->ipython) (0.2.2)\n",
      "Requirement already satisfied: six>=1.12.0 in c:\\users\\kanna\\appdata\\roaming\\python\\python311\\site-packages (from asttokens>=2.1.0->stack_data->ipython) (1.16.0)\n"
     ]
    },
    {
     "name": "stderr",
     "output_type": "stream",
     "text": [
      "\n",
      "[notice] A new release of pip available: 22.3 -> 25.1.1\n",
      "[notice] To update, run: python.exe -m pip install --upgrade pip\n"
     ]
    }
   ],
   "source": [
    "! pip install -U ipython"
   ]
  },
  {
   "cell_type": "code",
   "execution_count": 81,
   "id": "5bb008bc",
   "metadata": {},
   "outputs": [
    {
     "data": {
      "image/png": "[encoded data removed]",
      "text/plain": [
       "<IPython.core.display.Image object>"
      ]
     },
     "metadata": {},
     "output_type": "display_data"
    }
   ],
   "source": [
    "from IPython.display import Image, display\n",
    "\n",
    "try:\n",
    "    display(Image(graph.get_graph().draw_mermaid_png()))\n",
    "except Exception:\n",
    "    # This requires some extra dependencies and is optional\n",
    "    pass"
   ]
  },
  {
   "cell_type": "code",
   "execution_count": 82,
   "id": "dfbaa511",
   "metadata": {},
   "outputs": [],
   "source": [
    "res=graph.invoke({\"messages\": [\"Hi Hello how are you\"]})"
   ]
  },
  {
   "cell_type": "code",
   "execution_count": 83,
   "id": "7b2dc8b1",
   "metadata": {},
   "outputs": [
    {
     "data": {
      "text/plain": [
       "\"Hello! I'm just a virtual assistant, so I don't have feelings, but I'm here and ready to help you. How can I assist you today? 😊\""
      ]
     },
     "execution_count": 83,
     "metadata": {},
     "output_type": "execute_result"
    }
   ],
   "source": [
    "res[\"messages\"][-1].content"
   ]
  },
  {
   "cell_type": "code",
   "execution_count": 84,
   "id": "70562753",
   "metadata": {},
   "outputs": [],
   "source": [
    "def stream_graph_updates(user_input: str):\n",
    "    for event in graph.stream({\"messages\": [{\"role\": \"user\", \"content\": user_input}]}):\n",
    "        for value in event.values():\n",
    "            print(\"Assistant:\", value[\"messages\"][-1].content)"
   ]
  },
  {
   "cell_type": "code",
   "execution_count": 85,
   "id": "3dba6ea2",
   "metadata": {},
   "outputs": [
    {
     "name": "stdout",
     "output_type": "stream",
     "text": [
      "Assistant: The **future of AI** is a topic of great excitement, speculation, and debate. Based on current trends and expert insights, here’s an overview of what to expect:\n",
      "\n",
      "---\n",
      "\n",
      "## **1. Continued Rapid Advancement**\n",
      "AI is evolving faster than anticipated, particularly with large language models (like GPT-4 and successors) and advancements in computer vision, robotics, and generative media.\n",
      "\n",
      "- **Models will be more powerful, multi-modal (understanding text, images, audio, and video), and context-aware.**\n",
      "- **Smaller, faster, and cheaper AI models will be democratized, making AI accessible to more individuals and businesses.**\n",
      "\n",
      "---\n",
      "\n",
      "## **2. Ubiquity Across Sectors**\n",
      "AI will become a core part of:\n",
      "\n",
      "- **Healthcare:** Diagnosis, drug discovery, and personalized medicine.\n",
      "- **Education:** Personalized learning, tutoring, and curriculum design.\n",
      "- **Finance:** Fraud detection, personalized banking, and trading.\n",
      "- **Transportation:** Autonomous vehicles, traffic management, and logistics.\n",
      "- **Creative industries:** Music, art, writing, video game and movie production.\n",
      "\n",
      "---\n",
      "\n",
      "## **3. Human-AI Collaboration**\n",
      "Instead of replacing humans outright, AI will assist and augment human work. We're likely to see:\n",
      "\n",
      "- **Copilot-like tools** in programming, design, research, and more.\n",
      "- **Automated assistants** for scheduling, correspondence, and administration.\n",
      "- **New jobs and skills** focused on collaborating with, supervising, or tuning AI systems.\n",
      "\n",
      "---\n",
      "\n",
      "## **4. Integration and Personalization**\n",
      "AI will enable hyper-personalized services. From tailored shopping experiences to health recommendations, AI will adapt to individual needs.\n",
      "\n",
      "---\n",
      "\n",
      "## **5. Challenges and Risks**\n",
      "\n",
      "### Ethical & Social Issues\n",
      "- **Bias** in AI systems can perpetuate social inequalities.\n",
      "- **Job displacement** as automation increases.\n",
      "- **Privacy concerns** with ubiquitous surveillance and data analysis.\n",
      "- **Disinformation** through deepfakes and fake content.\n",
      "- **AI alignment and safety**: Ensuring AI’s goals align with human values.\n",
      "\n",
      "### Regulation and Governance\n",
      "Governments and organizations will need to build frameworks for safe and ethical AI use, transparency, and accountability.\n",
      "\n",
      "---\n",
      "\n",
      "## **6. Artificial General Intelligence (AGI)**\n",
      "Some experts anticipate **AGI**—AI systems as capable as (or exceeding) human intelligence—within coming decades, while others urge caution and emphasize the uncertainty. The timeline and nature of AGI remain deeply debated.\n",
      "\n",
      "---\n",
      "\n",
      "## **7. Sustainable and Responsible Development**\n",
      "Focus will increasingly turn to **energy efficiency**, **resource use**, and **responsible deployment** of AI, addressing environmental and societal impacts.\n",
      "\n",
      "---\n",
      "\n",
      "## **In Summary**\n",
      "\n",
      "The future of AI likely means:\n",
      "- **More powerful and accessible AI tools**\n",
      "- **Deeper integration into daily life and business**\n",
      "- **Opportunities for human-AI synergy**\n",
      "- **Serious ethical, societal, and regulatory challenges**\n",
      "- **Ongoing debates about safety and the limits of AI**\n",
      "\n",
      "**How far, and how fast, we advance will depend as much on our choices—ethical, political, and practical—as on technical breakthroughs.**\n",
      "\n",
      "---\n",
      "\n",
      "If you’d like examples for a specific industry or a deeper dive into any aspect, let me know!\n"
     ]
    }
   ],
   "source": [
    "stream_graph_updates(\"What is the Future of AI\")"
   ]
  },
  {
   "cell_type": "code",
   "execution_count": 86,
   "id": "91e9ef4e",
   "metadata": {},
   "outputs": [
    {
     "name": "stdout",
     "output_type": "stream",
     "text": [
      "Assistant: Your question was: **\"What question did I have asked you ?\"**\n",
      "\n",
      "If you meant **what was your previous question**, this is the *first* question you've asked me in this conversation.\n",
      "\n",
      "If you meant **what is this question grammatically**, it is a self-referential question asking me to recall the current or a previous query you made.\n",
      "\n",
      "Let me know if you meant something different!\n"
     ]
    }
   ],
   "source": [
    "stream_graph_updates(\"What question did I have asked you ?\")"
   ]
  },
  {
   "cell_type": "code",
   "execution_count": 87,
   "id": "71180479",
   "metadata": {},
   "outputs": [
    {
     "name": "stdout",
     "output_type": "stream",
     "text": [
      "Requirement already satisfied: langchain-tavily in c:\\users\\kanna\\appdata\\local\\programs\\python\\python311\\lib\\site-packages (0.2.0)\n",
      "Requirement already satisfied: aiohttp<4.0.0,>=3.11.14 in c:\\users\\kanna\\appdata\\local\\programs\\python\\python311\\lib\\site-packages (from langchain-tavily) (3.12.7)\n",
      "Requirement already satisfied: langchain<0.4.0,>=0.3.20 in c:\\users\\kanna\\appdata\\local\\programs\\python\\python311\\lib\\site-packages (from langchain-tavily) (0.3.25)\n",
      "Requirement already satisfied: langchain-core<0.4.0,>=0.3.15 in c:\\users\\kanna\\appdata\\local\\programs\\python\\python311\\lib\\site-packages (from langchain-tavily) (0.3.63)\n",
      "Requirement already satisfied: mypy<2.0.0,>=1.15.0 in c:\\users\\kanna\\appdata\\local\\programs\\python\\python311\\lib\\site-packages (from langchain-tavily) (1.16.0)\n",
      "Requirement already satisfied: requests<3.0.0,>=2.32.3 in c:\\users\\kanna\\appdata\\local\\programs\\python\\python311\\lib\\site-packages (from langchain-tavily) (2.32.3)\n",
      "Requirement already satisfied: aiohappyeyeballs>=2.5.0 in c:\\users\\kanna\\appdata\\local\\programs\\python\\python311\\lib\\site-packages (from aiohttp<4.0.0,>=3.11.14->langchain-tavily) (2.6.1)\n",
      "Requirement already satisfied: aiosignal>=1.1.2 in c:\\users\\kanna\\appdata\\local\\programs\\python\\python311\\lib\\site-packages (from aiohttp<4.0.0,>=3.11.14->langchain-tavily) (1.3.2)\n",
      "Requirement already satisfied: attrs>=17.3.0 in c:\\users\\kanna\\appdata\\local\\programs\\python\\python311\\lib\\site-packages (from aiohttp<4.0.0,>=3.11.14->langchain-tavily) (25.3.0)\n",
      "Requirement already satisfied: frozenlist>=1.1.1 in c:\\users\\kanna\\appdata\\local\\programs\\python\\python311\\lib\\site-packages (from aiohttp<4.0.0,>=3.11.14->langchain-tavily) (1.6.2)\n",
      "Requirement already satisfied: multidict<7.0,>=4.5 in c:\\users\\kanna\\appdata\\local\\programs\\python\\python311\\lib\\site-packages (from aiohttp<4.0.0,>=3.11.14->langchain-tavily) (6.4.4)\n",
      "Requirement already satisfied: propcache>=0.2.0 in c:\\users\\kanna\\appdata\\local\\programs\\python\\python311\\lib\\site-packages (from aiohttp<4.0.0,>=3.11.14->langchain-tavily) (0.3.1)\n",
      "Requirement already satisfied: yarl<2.0,>=1.17.0 in c:\\users\\kanna\\appdata\\local\\programs\\python\\python311\\lib\\site-packages (from aiohttp<4.0.0,>=3.11.14->langchain-tavily) (1.20.0)\n",
      "Requirement already satisfied: langchain-text-splitters<1.0.0,>=0.3.8 in c:\\users\\kanna\\appdata\\local\\programs\\python\\python311\\lib\\site-packages (from langchain<0.4.0,>=0.3.20->langchain-tavily) (0.3.8)\n",
      "Requirement already satisfied: langsmith<0.4,>=0.1.17 in c:\\users\\kanna\\appdata\\local\\programs\\python\\python311\\lib\\site-packages (from langchain<0.4.0,>=0.3.20->langchain-tavily) (0.3.44)\n",
      "Requirement already satisfied: pydantic<3.0.0,>=2.7.4 in c:\\users\\kanna\\appdata\\local\\programs\\python\\python311\\lib\\site-packages (from langchain<0.4.0,>=0.3.20->langchain-tavily) (2.11.5)\n",
      "Requirement already satisfied: SQLAlchemy<3,>=1.4 in c:\\users\\kanna\\appdata\\local\\programs\\python\\python311\\lib\\site-packages (from langchain<0.4.0,>=0.3.20->langchain-tavily) (2.0.41)\n",
      "Requirement already satisfied: PyYAML>=5.3 in c:\\users\\kanna\\appdata\\local\\programs\\python\\python311\\lib\\site-packages (from langchain<0.4.0,>=0.3.20->langchain-tavily) (6.0.2)\n",
      "Requirement already satisfied: tenacity!=8.4.0,<10.0.0,>=8.1.0 in c:\\users\\kanna\\appdata\\local\\programs\\python\\python311\\lib\\site-packages (from langchain-core<0.4.0,>=0.3.15->langchain-tavily) (9.1.2)\n",
      "Requirement already satisfied: jsonpatch<2.0,>=1.33 in c:\\users\\kanna\\appdata\\local\\programs\\python\\python311\\lib\\site-packages (from langchain-core<0.4.0,>=0.3.15->langchain-tavily) (1.33)\n",
      "Requirement already satisfied: packaging<25,>=23.2 in c:\\users\\kanna\\appdata\\roaming\\python\\python311\\site-packages (from langchain-core<0.4.0,>=0.3.15->langchain-tavily) (23.2)\n",
      "Requirement already satisfied: typing-extensions>=4.7 in c:\\users\\kanna\\appdata\\local\\programs\\python\\python311\\lib\\site-packages (from langchain-core<0.4.0,>=0.3.15->langchain-tavily) (4.14.0)\n",
      "Requirement already satisfied: mypy_extensions>=1.0.0 in c:\\users\\kanna\\appdata\\local\\programs\\python\\python311\\lib\\site-packages (from mypy<2.0.0,>=1.15.0->langchain-tavily) (1.1.0)\n",
      "Requirement already satisfied: pathspec>=0.9.0 in c:\\users\\kanna\\appdata\\local\\programs\\python\\python311\\lib\\site-packages (from mypy<2.0.0,>=1.15.0->langchain-tavily) (0.12.1)\n",
      "Requirement already satisfied: charset-normalizer<4,>=2 in c:\\users\\kanna\\appdata\\local\\programs\\python\\python311\\lib\\site-packages (from requests<3.0.0,>=2.32.3->langchain-tavily) (3.4.2)\n",
      "Requirement already satisfied: idna<4,>=2.5 in c:\\users\\kanna\\appdata\\local\\programs\\python\\python311\\lib\\site-packages (from requests<3.0.0,>=2.32.3->langchain-tavily) (3.10)\n",
      "Requirement already satisfied: urllib3<3,>=1.21.1 in c:\\users\\kanna\\appdata\\local\\programs\\python\\python311\\lib\\site-packages (from requests<3.0.0,>=2.32.3->langchain-tavily) (2.4.0)\n",
      "Requirement already satisfied: certifi>=2017.4.17 in c:\\users\\kanna\\appdata\\local\\programs\\python\\python311\\lib\\site-packages (from requests<3.0.0,>=2.32.3->langchain-tavily) (2025.4.26)\n",
      "Requirement already satisfied: jsonpointer>=1.9 in c:\\users\\kanna\\appdata\\local\\programs\\python\\python311\\lib\\site-packages (from jsonpatch<2.0,>=1.33->langchain-core<0.4.0,>=0.3.15->langchain-tavily) (3.0.0)\n",
      "Requirement already satisfied: httpx<1,>=0.23.0 in c:\\users\\kanna\\appdata\\local\\programs\\python\\python311\\lib\\site-packages (from langsmith<0.4,>=0.1.17->langchain<0.4.0,>=0.3.20->langchain-tavily) (0.28.1)\n",
      "Requirement already satisfied: orjson<4.0.0,>=3.9.14 in c:\\users\\kanna\\appdata\\local\\programs\\python\\python311\\lib\\site-packages (from langsmith<0.4,>=0.1.17->langchain<0.4.0,>=0.3.20->langchain-tavily) (3.10.18)\n",
      "Requirement already satisfied: requests-toolbelt<2.0.0,>=1.0.0 in c:\\users\\kanna\\appdata\\local\\programs\\python\\python311\\lib\\site-packages (from langsmith<0.4,>=0.1.17->langchain<0.4.0,>=0.3.20->langchain-tavily) (1.0.0)\n",
      "Requirement already satisfied: zstandard<0.24.0,>=0.23.0 in c:\\users\\kanna\\appdata\\local\\programs\\python\\python311\\lib\\site-packages (from langsmith<0.4,>=0.1.17->langchain<0.4.0,>=0.3.20->langchain-tavily) (0.23.0)\n",
      "Requirement already satisfied: annotated-types>=0.6.0 in c:\\users\\kanna\\appdata\\local\\programs\\python\\python311\\lib\\site-packages (from pydantic<3.0.0,>=2.7.4->langchain<0.4.0,>=0.3.20->langchain-tavily) (0.7.0)\n",
      "Requirement already satisfied: pydantic-core==2.33.2 in c:\\users\\kanna\\appdata\\local\\programs\\python\\python311\\lib\\site-packages (from pydantic<3.0.0,>=2.7.4->langchain<0.4.0,>=0.3.20->langchain-tavily) (2.33.2)\n",
      "Requirement already satisfied: typing-inspection>=0.4.0 in c:\\users\\kanna\\appdata\\local\\programs\\python\\python311\\lib\\site-packages (from pydantic<3.0.0,>=2.7.4->langchain<0.4.0,>=0.3.20->langchain-tavily) (0.4.1)\n",
      "Requirement already satisfied: greenlet>=1 in c:\\users\\kanna\\appdata\\local\\programs\\python\\python311\\lib\\site-packages (from SQLAlchemy<3,>=1.4->langchain<0.4.0,>=0.3.20->langchain-tavily) (3.2.2)\n",
      "Requirement already satisfied: anyio in c:\\users\\kanna\\appdata\\local\\programs\\python\\python311\\lib\\site-packages (from httpx<1,>=0.23.0->langsmith<0.4,>=0.1.17->langchain<0.4.0,>=0.3.20->langchain-tavily) (4.9.0)\n",
      "Requirement already satisfied: httpcore==1.* in c:\\users\\kanna\\appdata\\local\\programs\\python\\python311\\lib\\site-packages (from httpx<1,>=0.23.0->langsmith<0.4,>=0.1.17->langchain<0.4.0,>=0.3.20->langchain-tavily) (1.0.9)\n",
      "Requirement already satisfied: h11>=0.16 in c:\\users\\kanna\\appdata\\local\\programs\\python\\python311\\lib\\site-packages (from httpcore==1.*->httpx<1,>=0.23.0->langsmith<0.4,>=0.1.17->langchain<0.4.0,>=0.3.20->langchain-tavily) (0.16.0)\n",
      "Requirement already satisfied: sniffio>=1.1 in c:\\users\\kanna\\appdata\\local\\programs\\python\\python311\\lib\\site-packages (from anyio->httpx<1,>=0.23.0->langsmith<0.4,>=0.1.17->langchain<0.4.0,>=0.3.20->langchain-tavily) (1.3.1)\n"
     ]
    },
    {
     "name": "stderr",
     "output_type": "stream",
     "text": [
      "\n",
      "[notice] A new release of pip available: 22.3 -> 25.1.1\n",
      "[notice] To update, run: python.exe -m pip install --upgrade pip\n"
     ]
    }
   ],
   "source": [
    "! pip install -U langchain-tavily"
   ]
  },
  {
   "cell_type": "code",
   "execution_count": 88,
   "id": "8564214e",
   "metadata": {},
   "outputs": [
    {
     "name": "stdout",
     "output_type": "stream",
     "text": [
      "Requirement already satisfied: dotenv in c:\\users\\kanna\\appdata\\local\\programs\\python\\python311\\lib\\site-packages (0.9.9)\n",
      "Requirement already satisfied: python-dotenv in c:\\users\\kanna\\appdata\\local\\programs\\python\\python311\\lib\\site-packages (from dotenv) (1.1.0)\n"
     ]
    },
    {
     "name": "stderr",
     "output_type": "stream",
     "text": [
      "\n",
      "[notice] A new release of pip available: 22.3 -> 25.1.1\n",
      "[notice] To update, run: python.exe -m pip install --upgrade pip\n"
     ]
    }
   ],
   "source": [
    "! pip install dotenv"
   ]
  },
  {
   "cell_type": "code",
   "execution_count": 89,
   "id": "d5c54487",
   "metadata": {},
   "outputs": [
    {
     "data": {
      "text/plain": [
       "True"
      ]
     },
     "execution_count": 89,
     "metadata": {},
     "output_type": "execute_result"
    }
   ],
   "source": [
    "from dotenv import load_dotenv\n",
    "\n",
    "load_dotenv()"
   ]
  },
  {
   "cell_type": "code",
   "execution_count": 90,
   "id": "926801ff",
   "metadata": {},
   "outputs": [
    {
     "data": {
      "text/plain": [
       "'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'"
      ]
     },
     "execution_count": 90,
     "metadata": {},
     "output_type": "execute_result"
    }
   ],
   "source": [
    "import os\n",
    "os.getenv(\"TAVILY_API_KEY\")"
   ]
  },
  {
   "cell_type": "code",
   "execution_count": 91,
   "id": "286628ec",
   "metadata": {},
   "outputs": [
    {
     "data": {
      "text/plain": [
       "{'query': 'Who is the current president of the USA',\n",
       " 'follow_up_questions': None,\n",
       " 'answer': None,\n",
       " 'images': [],\n",
       " 'results': [{'title': 'List of presidents of the United States - Wikipedia',\n",
       "   'url': 'https://en.wikipedia.org/wiki/List_of_presidents_of_the_United_States',\n",
       "   'content': 'The current president of the United States is Donald Trump, who assumed office on January 20, 2025. This web page provides a comprehensive list of all 47 presidents from George Washington to Donald Trump, with their portraits, terms, parties, and vice presidents.',\n",
       "   'score': 0.91795975,\n",
       "   'raw_content': None},\n",
       "  {'title': 'Presidents, vice presidents, and first ladies - USAGov',\n",
       "   'url': 'https://www.usa.gov/presidents',\n",
       "   'content': 'Learn about the current and past leaders of the United States, their duties, and how to contact them. The 50th and current vice president is James David (JD) Vance, and the first lady is Melania Trump.',\n",
       "   'score': 0.7402687,\n",
       "   'raw_content': None}],\n",
       " 'response_time': 2.17}"
      ]
     },
     "execution_count": 91,
     "metadata": {},
     "output_type": "execute_result"
    }
   ],
   "source": [
    "from langchain_tavily import TavilySearch\n",
    "\n",
    "tool=TavilySearch(max_results=2,\n",
    "                  api_key=\"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\")\n",
    "tools=[tool]\n",
    "\n",
    "tool.invoke(\"Who is the current president of the USA\")"
   ]
  },
  {
   "cell_type": "code",
   "execution_count": 92,
   "id": "9fb3e339",
   "metadata": {},
   "outputs": [
    {
     "data": {
      "text/plain": [
       "{'tavily_search': TavilySearch(max_results=2, api_wrapper=TavilySearchAPIWrapper(tavily_api_key=SecretStr('**********')))}"
      ]
     },
     "execution_count": 92,
     "metadata": {},
     "output_type": "execute_result"
    }
   ],
   "source": [
    "\n",
    "{tool.name: tool for tool in tools}"
   ]
  },
  {
   "cell_type": "code",
   "execution_count": 93,
   "id": "73fa1903",
   "metadata": {},
   "outputs": [],
   "source": [
    "llm_with_tools=llm.bind_tools(tools)"
   ]
  },
  {
   "cell_type": "code",
   "execution_count": 94,
   "id": "6b55e6da",
   "metadata": {},
   "outputs": [],
   "source": [
    "def chatbot(state: State):\n",
    "    return {\"messages\":[llm_with_tools.invoke(state[\"messages\"])]}"
   ]
  },
  {
   "cell_type": "code",
   "execution_count": null,
   "id": "276305dd",
   "metadata": {},
   "outputs": [],
   "source": [
    "import json\n",
    "from langchain_core.messages import ToolMessage\n",
    "\n",
    "class BasicToolNode:\n",
    "    \"\"\"A node that runs the tools which is requested in last AI Message\"\"\"\n",
    "    \n",
    "    def __init__(self,tools:list):\n",
    "        self.tools_by_name={tool.name: tool for tool in tools}\n",
    "    \n",
    "    def __call__(self, inputs:dict):\n",
    "        if messages:= inputs.get(\"messages\",[]):\n",
    "            message=messages[-1]\n",
    "        else:\n",
    "            raise ValueError(\"No message found in input\")\n",
    "\n",
    "        # LLM is giving toolName and tool Args\n",
    "        outputs=[]\n",
    "        for tool_call in message.tool_calls:\n",
    "            tool_result=self.tools_by_name[tool_call[\"name\"]].invoke(\n",
    "                tool_call[\"args\"]\n",
    "            )\n",
    "            \n",
    "            outputs.append(\n",
    "                ToolMessage(\n",
    "                    content=json.dumps(tool_result),\n",
    "                    name=tool_call[\"name\"],\n",
    "                    tool_call_id=tool_call[\"id\"],\n",
    "                )     \n",
    "            )\n",
    "        return {\"messages\": outputs}"
   ]
  },
  {
   "cell_type": "code",
   "execution_count": 96,
   "id": "3b633143",
   "metadata": {},
   "outputs": [],
   "source": [
    "from langgraph.graph import END\n",
    "def route_tools(state:State):\n",
    "    \"\"\"\n",
    "    Used in the conditional edge to route to the ToolNode if the last message has the tool call. Otherwise route to the end \n",
    "    \"\"\"\n",
    "    \n",
    "    if isinstance(state,list):\n",
    "        ai_message=state[-1]\n",
    "    elif messages:=state.get(\"messages\",[]):\n",
    "        ai_message=messages[-1]\n",
    "    else:\n",
    "        raise ValueError('No Message found in input to tool edge')\n",
    "    \n",
    "    if hasattr(ai_message,\"tool_calls\") and len(ai_message.tool_calls) >0 :\n",
    "        return \"tools\"\n",
    "    \n",
    "    return END"
   ]
  },
  {
   "cell_type": "code",
   "execution_count": 97,
   "id": "8ad96e7a",
   "metadata": {},
   "outputs": [
    {
     "data": {
      "text/plain": [
       "<langgraph.graph.state.StateGraph at 0x17a0f477750>"
      ]
     },
     "execution_count": 97,
     "metadata": {},
     "output_type": "execute_result"
    }
   ],
   "source": [
    "graph_builder=StateGraph(State)\n",
    "\n",
    "graph_builder.add_node(\"chatbot\",chatbot)\n",
    "\n",
    "tool_node=BasicToolNode(tools=[tool])\n",
    "graph_builder.add_node(\"tools\",tool_node)"
   ]
  },
  {
   "cell_type": "code",
   "execution_count": 98,
   "id": "c3833f00",
   "metadata": {},
   "outputs": [
    {
     "data": {
      "text/plain": [
       "<langgraph.graph.state.StateGraph at 0x17a0f477750>"
      ]
     },
     "execution_count": 98,
     "metadata": {},
     "output_type": "execute_result"
    }
   ],
   "source": [
    "graph_builder.add_conditional_edges(\n",
    "    \"chatbot\",\n",
    "    route_tools,\n",
    "    {\"tools\": \"tools\", END: END},\n",
    ")"
   ]
  },
  {
   "cell_type": "code",
   "execution_count": 99,
   "id": "ab5f666a",
   "metadata": {},
   "outputs": [],
   "source": [
    "# Any time a tool is called, we return to the chatbot to decide the next step\n",
    "graph_builder.add_edge(\"tools\", \"chatbot\")\n",
    "graph_builder.add_edge(START, \"chatbot\")\n",
    "graph = graph_builder.compile()"
   ]
  },
  {
   "cell_type": "code",
   "execution_count": 100,
   "id": "166bb051",
   "metadata": {},
   "outputs": [
    {
     "data": {
      "image/png": "[encoded data removed]",
      "text/plain": [
       "<IPython.core.display.Image object>"
      ]
     },
     "metadata": {},
     "output_type": "display_data"
    }
   ],
   "source": [
    "from IPython.display import Image, display\n",
    "\n",
    "try:\n",
    "    display(Image(graph.get_graph().draw_mermaid_png()))\n",
    "except Exception:\n",
    "    # This requires some extra dependencies and is optional\n",
    "    pass"
   ]
  },
  {
   "cell_type": "code",
   "execution_count": 101,
   "id": "8c0073fa",
   "metadata": {},
   "outputs": [],
   "source": [
    "def custom_graph_update(user_input : str):\n",
    "    res= graph.invoke({\"messages\": [{\"role\":\"user\",\"content\":user_input}]})\n",
    "    print(\"Assistant:\", res[\"messages\"][-1].content)"
   ]
  },
  {
   "cell_type": "code",
   "execution_count": 102,
   "id": "49a63fed",
   "metadata": {},
   "outputs": [
    {
     "name": "stdout",
     "output_type": "stream",
     "text": [
      "Assistant: The current president of the United States is Donald John Trump. He was sworn into office on January 20, 2025.\n"
     ]
    }
   ],
   "source": [
    "custom_graph_update(\"Who is current USA president\")"
   ]
  },
  {
   "cell_type": "code",
   "execution_count": 103,
   "id": "b2840193",
   "metadata": {},
   "outputs": [],
   "source": [
    "## With Prebuilt Tools"
   ]
  },
  {
   "cell_type": "code",
   "execution_count": 104,
   "id": "82423e20",
   "metadata": {},
   "outputs": [],
   "source": [
    "from langgraph.graph import StateGraph,START,END\n",
    "from typing import TypedDict\n",
    "from typing_extensions import Annotated\n",
    "from langchain_tavily import TavilySearch\n",
    "from langgraph.prebuilt import ToolNode,tools_condition\n",
    "from langgraph.checkpoint.memory import MemorySaver"
   ]
  },
  {
   "cell_type": "code",
   "execution_count": 105,
   "id": "15542122",
   "metadata": {},
   "outputs": [
    {
     "data": {
      "text/plain": [
       "<langgraph.graph.state.StateGraph at 0x17a0cb2ea10>"
      ]
     },
     "execution_count": 105,
     "metadata": {},
     "output_type": "execute_result"
    }
   ],
   "source": [
    "class State(TypedDict):\n",
    "    messages: Annotated[list,add_messages]\n",
    "\n",
    "graph_builder=StateGraph(State)\n",
    "llm = init_chat_model(\"openai:gpt-4.1\")\n",
    "tools = [TavilySearch(max_results=2)]\n",
    "llm_with_tools.bind_tools(tools)\n",
    "memory=MemorySaver()\n",
    "\n",
    "def chatbot(state: State):\n",
    "    return {\"messages\": [llm_with_tools.invoke(state[\"messages\"])]}\n",
    "\n",
    "\n",
    "graph_builder.add_node(\"chatbot\",chatbot)\n",
    "\n",
    "tool_node = ToolNode(tools)\n",
    "graph_builder.add_node(\"tools\",tool_node)\n",
    "\n",
    "graph_builder.add_conditional_edges(\"chatbot\",tools_condition)\n",
    "\n",
    "graph_builder.add_edge(START,\"chatbot\")\n",
    "graph_builder.add_edge(\"tools\",\"chatbot\")\n"
   ]
  },
  {
   "cell_type": "code",
   "execution_count": 106,
   "id": "1c2b2246",
   "metadata": {},
   "outputs": [
    {
     "data": {
      "image/png": "[encoded data removed]",
      "text/plain": [
       "<IPython.core.display.Image object>"
      ]
     },
     "metadata": {},
     "output_type": "display_data"
    }
   ],
   "source": [
    "from IPython.display import Image, display\n",
    "\n",
    "graph = graph_builder.compile(checkpointer=memory)\n",
    "\n",
    "try:\n",
    "    display(Image(graph.get_graph().draw_mermaid_png()))\n",
    "except Exception:\n",
    "    # This requires some extra dependencies and is optional\n",
    "    pass"
   ]
  },
  {
   "cell_type": "code",
   "execution_count": 109,
   "id": "8f7c67c3",
   "metadata": {},
   "outputs": [
    {
     "name": "stdout",
     "output_type": "stream",
     "text": [
      "================================\u001b[1m Human Message \u001b[0m=================================\n",
      "\n",
      "Hi there! My name is Will.\n",
      "==================================\u001b[1m Ai Message \u001b[0m==================================\n",
      "\n",
      "Hi again, Will! How can I assist you today? If you have any questions or need help with something, just let me know.\n"
     ]
    }
   ],
   "source": [
    "user_input = \"Hi there! My name is Will.\"\n",
    "\n",
    "# The config is the **second positional argument** to stream() or invoke()!\n",
    "events = graph.stream(\n",
    "    {\"messages\": [{\"role\": \"user\", \"content\": user_input}]},\n",
    "    config,\n",
    "    stream_mode=\"values\",\n",
    ")\n",
    "for event in events:\n",
    "    event[\"messages\"][-1].pretty_print()"
   ]
  },
  {
   "cell_type": "code",
   "execution_count": 112,
   "id": "27516c26",
   "metadata": {},
   "outputs": [
    {
     "data": {
      "text/plain": [
       "'Hello, Manideep! It’s great to meet you. How can I assist you today?'"
      ]
     },
     "execution_count": 112,
     "metadata": {},
     "output_type": "execute_result"
    }
   ],
   "source": [
    "res=graph.invoke({\"messages\": [{\"role\":\"user\",\"content\":\"Hi My name is Manideep\"}]},config)\n",
    "\n",
    "res[\"messages\"][-1].content"
   ]
  },
  {
   "cell_type": "code",
   "execution_count": 113,
   "id": "25d0895d",
   "metadata": {},
   "outputs": [
    {
     "data": {
      "text/plain": [
       "'Your name is Manideep. How can I help you today, Manideep?'"
      ]
     },
     "execution_count": 113,
     "metadata": {},
     "output_type": "execute_result"
    }
   ],
   "source": [
    "res=graph.invoke({\"messages\": [{\"role\":\"user\",\"content\":\"What is my Name\"}]},config)\n",
    "\n",
    "res[\"messages\"][-1].content"
   ]
  },
  {
   "cell_type": "code",
   "execution_count": 114,
   "id": "f7cb40d7",
   "metadata": {},
   "outputs": [],
   "source": [
    "snapshot=graph.get_state(config)"
   ]
  },
  {
   "cell_type": "code",
   "execution_count": 115,
   "id": "d3abf376",
   "metadata": {},
   "outputs": [
    {
     "data": {
      "text/plain": [
       "StateSnapshot(values={'messages': [HumanMessage(content='Hi there! My name is Will.', additional_kwargs={}, response_metadata={}, id='7b7b29a4-1cad-4537-b1d4-92ff4a4f983c'), AIMessage(content='Hi Will! Great to meet you. How can I help you today?', additional_kwargs={'refusal': None}, response_metadata={'token_usage': {'completion_tokens': 16, 'prompt_tokens': 775, 'total_tokens': 791, 'completion_tokens_details': {'accepted_prediction_tokens': 0, 'audio_tokens': 0, 'reasoning_tokens': 0, 'rejected_prediction_tokens': 0}, 'prompt_tokens_details': {'audio_tokens': 0, 'cached_tokens': 0}}, 'model_name': 'gpt-4.1-2025-04-14', 'system_fingerprint': 'fp_51e1070cf2', 'id': 'chatcmpl-BebzVw7eHpinmz0M2hpbkBikxV9ac', 'service_tier': 'default', 'finish_reason': 'stop', 'logprobs': None}, id='run--8f79b84d-5761-4b49-809e-7fc242e79bd2-0', usage_metadata={'input_tokens': 775, 'output_tokens': 16, 'total_tokens': 791, 'input_token_details': {'audio': 0, 'cache_read': 0}, 'output_token_details': {'audio': 0, 'reasoning': 0}}), HumanMessage(content='Hi there! My name is Will.', additional_kwargs={}, response_metadata={}, id='11e91663-6223-42a8-8918-26ed3fb029d1'), AIMessage(content='Hi again, Will! How can I assist you today? If you have any questions or need help with something, just let me know.', additional_kwargs={'refusal': None}, response_metadata={'token_usage': {'completion_tokens': 29, 'prompt_tokens': 806, 'total_tokens': 835, 'completion_tokens_details': {'accepted_prediction_tokens': 0, 'audio_tokens': 0, 'reasoning_tokens': 0, 'rejected_prediction_tokens': 0}, 'prompt_tokens_details': {'audio_tokens': 0, 'cached_tokens': 0}}, 'model_name': 'gpt-4.1-2025-04-14', 'system_fingerprint': 'fp_51e1070cf2', 'id': 'chatcmpl-BebzYKsqNdBOhEZMxy8f0qt649OWG', 'service_tier': 'default', 'finish_reason': 'stop', 'logprobs': None}, id='run--f1c49eb0-ec56-4856-a0ed-4b56ffdca466-0', usage_metadata={'input_tokens': 806, 'output_tokens': 29, 'total_tokens': 835, 'input_token_details': {'audio': 0, 'cache_read': 0}, 'output_token_details': {'audio': 0, 'reasoning': 0}}), HumanMessage(content='Hi My name is Manideep', additional_kwargs={}, response_metadata={}, id='67e291e0-593f-4d8d-a510-581b80336e9c'), AIMessage(content='Hello, Manideep! Nice to meet you. How can I help you today?', additional_kwargs={'refusal': None}, response_metadata={'token_usage': {'completion_tokens': 19, 'prompt_tokens': 849, 'total_tokens': 868, 'completion_tokens_details': {'accepted_prediction_tokens': 0, 'audio_tokens': 0, 'reasoning_tokens': 0, 'rejected_prediction_tokens': 0}, 'prompt_tokens_details': {'audio_tokens': 0, 'cached_tokens': 0}}, 'model_name': 'gpt-4.1-2025-04-14', 'system_fingerprint': 'fp_51e1070cf2', 'id': 'chatcmpl-Bec2aCrUA30t51Q0m4idIG0eyheFh', 'service_tier': 'default', 'finish_reason': 'stop', 'logprobs': None}, id='run--4c1a6cb3-d929-449e-986d-ff9cbe814e5a-0', usage_metadata={'input_tokens': 849, 'output_tokens': 19, 'total_tokens': 868, 'input_token_details': {'audio': 0, 'cache_read': 0}, 'output_token_details': {'audio': 0, 'reasoning': 0}}), HumanMessage(content='Hi My name is Manideep', additional_kwargs={}, response_metadata={}, id='e51071c2-d961-4485-8d33-5a69b06e69ff'), AIMessage(content='Hello again, Manideep! How can I assist you today? If you have any questions or need support with something, just let me know!', additional_kwargs={'refusal': None}, response_metadata={'token_usage': {'completion_tokens': 31, 'prompt_tokens': 882, 'total_tokens': 913, 'completion_tokens_details': {'accepted_prediction_tokens': 0, 'audio_tokens': 0, 'reasoning_tokens': 0, 'rejected_prediction_tokens': 0}, 'prompt_tokens_details': {'audio_tokens': 0, 'cached_tokens': 0}}, 'model_name': 'gpt-4.1-2025-04-14', 'system_fingerprint': 'fp_51e1070cf2', 'id': 'chatcmpl-Bec2i7m7180mfrgoHGX47rT3Tpma5', 'service_tier': 'default', 'finish_reason': 'stop', 'logprobs': None}, id='run--2956a790-26c6-46ef-b1d4-c348ce97bc81-0', usage_metadata={'input_tokens': 882, 'output_tokens': 31, 'total_tokens': 913, 'input_token_details': {'audio': 0, 'cache_read': 0}, 'output_token_details': {'audio': 0, 'reasoning': 0}}), HumanMessage(content='Hi My name is Manideep', additional_kwargs={}, response_metadata={}, id='d858b9df-c652-4baf-8417-86f232621ea3'), AIMessage(content='Hello, Manideep! It’s great to meet you. How can I assist you today?', additional_kwargs={'refusal': None}, response_metadata={'token_usage': {'completion_tokens': 21, 'prompt_tokens': 927, 'total_tokens': 948, 'completion_tokens_details': {'accepted_prediction_tokens': 0, 'audio_tokens': 0, 'reasoning_tokens': 0, 'rejected_prediction_tokens': 0}, 'prompt_tokens_details': {'audio_tokens': 0, 'cached_tokens': 0}}, 'model_name': 'gpt-4.1-2025-04-14', 'system_fingerprint': 'fp_51e1070cf2', 'id': 'chatcmpl-Bec37tM51bpxLLsNl4ARk351ldEws', 'service_tier': 'default', 'finish_reason': 'stop', 'logprobs': None}, id='run--1264aa80-678e-47b5-9532-8cf85f59ab3b-0', usage_metadata={'input_tokens': 927, 'output_tokens': 21, 'total_tokens': 948, 'input_token_details': {'audio': 0, 'cache_read': 0}, 'output_token_details': {'audio': 0, 'reasoning': 0}}), HumanMessage(content='What is my Name', additional_kwargs={}, response_metadata={}, id='2dc9d4e0-aa8f-4da0-93ea-33c814dc3470'), AIMessage(content='Your name is Manideep. How can I help you today, Manideep?', additional_kwargs={'refusal': None}, response_metadata={'token_usage': {'completion_tokens': 19, 'prompt_tokens': 959, 'total_tokens': 978, 'completion_tokens_details': {'accepted_prediction_tokens': 0, 'audio_tokens': 0, 'reasoning_tokens': 0, 'rejected_prediction_tokens': 0}, 'prompt_tokens_details': {'audio_tokens': 0, 'cached_tokens': 0}}, 'model_name': 'gpt-4.1-2025-04-14', 'system_fingerprint': 'fp_51e1070cf2', 'id': 'chatcmpl-Bec3I7LyXHVXIuikQl2GrJpm6OGqD', 'service_tier': 'default', 'finish_reason': 'stop', 'logprobs': None}, id='run--f719ee72-c618-4f4b-964b-facb5c237155-0', usage_metadata={'input_tokens': 959, 'output_tokens': 19, 'total_tokens': 978, 'input_token_details': {'audio': 0, 'cache_read': 0}, 'output_token_details': {'audio': 0, 'reasoning': 0}})]}, next=(), config={'configurable': {'thread_id': '1', 'checkpoint_ns': '', 'checkpoint_id': '1f0410e7-c82f-6ca9-8010-6b76b0d51c5a'}}, metadata={'source': 'loop', 'writes': {'chatbot': {'messages': [AIMessage(content='Your name is Manideep. How can I help you today, Manideep?', additional_kwargs={'refusal': None}, response_metadata={'token_usage': {'completion_tokens': 19, 'prompt_tokens': 959, 'total_tokens': 978, 'completion_tokens_details': {'accepted_prediction_tokens': 0, 'audio_tokens': 0, 'reasoning_tokens': 0, 'rejected_prediction_tokens': 0}, 'prompt_tokens_details': {'audio_tokens': 0, 'cached_tokens': 0}}, 'model_name': 'gpt-4.1-2025-04-14', 'system_fingerprint': 'fp_51e1070cf2', 'id': 'chatcmpl-Bec3I7LyXHVXIuikQl2GrJpm6OGqD', 'service_tier': 'default', 'finish_reason': 'stop', 'logprobs': None}, id='run--f719ee72-c618-4f4b-964b-facb5c237155-0', usage_metadata={'input_tokens': 959, 'output_tokens': 19, 'total_tokens': 978, 'input_token_details': {'audio': 0, 'cache_read': 0}, 'output_token_details': {'audio': 0, 'reasoning': 0}})]}}, 'step': 16, 'parents': {}, 'thread_id': '1'}, created_at='2025-06-04T06:38:12.279210+00:00', parent_config={'configurable': {'thread_id': '1', 'checkpoint_ns': '', 'checkpoint_id': '1f0410e7-be23-6707-800f-f24b784ed5f6'}}, tasks=(), interrupts=())"
      ]
     },
     "execution_count": 115,
     "metadata": {},
     "output_type": "execute_result"
    }
   ],
   "source": [
    "snapshot"
   ]
  },
  {
   "cell_type": "code",
   "execution_count": null,
   "id": "806a9e82",
   "metadata": {},
   "outputs": [],
   "source": [
    "#Human Input Added"
   ]
  },
  {
   "cell_type": "code",
   "execution_count": 135,
   "id": "a66b086e",
   "metadata": {},
   "outputs": [],
   "source": [
    "from langgraph.types import Command,interrupt\n",
    "from langchain_core.tools import tool\n",
    "\n",
    "class State(TypedDict):\n",
    "    messages: Annotated[list, add_messages]\n",
    "\n",
    "graph_builder = StateGraph(State)\n",
    "\n",
    "@tool\n",
    "def human_assistance(query: str) -> str:\n",
    "    \"\"\"Request assistance from a human.\"\"\"\n",
    "    human_response = interrupt({\"query\": query})\n",
    "    return human_response[\"data\"]\n",
    "\n",
    "tool = TavilySearch(max_results=2)\n",
    "tools = [tool, human_assistance]\n",
    "llm_with_tools = llm.bind_tools(tools)\n",
    "\n",
    "def chatbot(state: State):\n",
    "    message = llm_with_tools.invoke(state[\"messages\"])\n",
    "    # Because we will be interrupting during tool execution,\n",
    "    # we disable parallel tool calling to avoid repeating any\n",
    "    # tool invocations when we resume.\n",
    "    assert len(message.tool_calls) <= 1\n",
    "    return {\"messages\": [message]}\n",
    "\n",
    "graph_builder.add_node(\"chatbot\", chatbot)\n",
    "\n",
    "tool_node = ToolNode(tools=tools)\n",
    "graph_builder.add_node(\"tools\", tool_node)\n",
    "\n",
    "graph_builder.add_conditional_edges(\n",
    "    \"chatbot\",\n",
    "    tools_condition,\n",
    ")\n",
    "graph_builder.add_edge(\"tools\", \"chatbot\")\n",
    "graph_builder.add_edge(START, \"chatbot\")\n",
    "\n",
    "graph = graph_builder.compile(checkpointer=memory)"
   ]
  },
  {
   "cell_type": "code",
   "execution_count": 136,
   "id": "20e4a9d2",
   "metadata": {},
   "outputs": [
    {
     "name": "stdout",
     "output_type": "stream",
     "text": [
      "================================\u001b[1m Human Message \u001b[0m=================================\n",
      "\n",
      "I need some expert guidance for building an AI agent. Could you request assistance for me?\n",
      "==================================\u001b[1m Ai Message \u001b[0m==================================\n",
      "Tool Calls:\n",
      "  human_assistance (call_miLRV51tJAwArDYr8jori5BS)\n",
      " Call ID: call_miLRV51tJAwArDYr8jori5BS\n",
      "  Args:\n",
      "    query: I need expert guidance for building an AI agent. Could you provide assistance or connect me with an expert?\n"
     ]
    }
   ],
   "source": [
    "user_input = \"I need some expert guidance for building an AI agent. Could you request assistance for me?\"\n",
    "config = {\"configurable\": {\"thread_id\": \"1\"}}\n",
    "\n",
    "events = graph.stream(\n",
    "    {\"messages\": [{\"role\": \"user\", \"content\": user_input}]},\n",
    "    config,\n",
    "    stream_mode=\"values\",\n",
    ")\n",
    "for event in events:\n",
    "    if \"messages\" in event:\n",
    "        event[\"messages\"][-1].pretty_print()"
   ]
  },
  {
   "cell_type": "code",
   "execution_count": 137,
   "id": "170eb2f6",
   "metadata": {},
   "outputs": [
    {
     "data": {
      "text/plain": [
       "('tools',)"
      ]
     },
     "execution_count": 137,
     "metadata": {},
     "output_type": "execute_result"
    }
   ],
   "source": [
    "snapshot=graph.get_state(config)\n",
    "snapshot.next"
   ]
  },
  {
   "cell_type": "code",
   "execution_count": 138,
   "id": "6c64dc5e",
   "metadata": {},
   "outputs": [
    {
     "name": "stdout",
     "output_type": "stream",
     "text": [
      "==================================\u001b[1m Ai Message \u001b[0m==================================\n",
      "Tool Calls:\n",
      "  human_assistance (call_miLRV51tJAwArDYr8jori5BS)\n",
      " Call ID: call_miLRV51tJAwArDYr8jori5BS\n",
      "  Args:\n",
      "    query: I need expert guidance for building an AI agent. Could you provide assistance or connect me with an expert?\n",
      "=================================\u001b[1m Tool Message \u001b[0m=================================\n",
      "Name: human_assistance\n",
      "\n",
      "We, the experts are here to help! We'd recommend you check out LangGraph to build your agent. It's much more reliable and extensible than simple autonomous agents.\n",
      "==================================\u001b[1m Ai Message \u001b[0m==================================\n",
      "\n",
      "Great news! Expert guidance is available, and a strong recommendation is to use LangGraph for building your AI agent. LangGraph is considered more reliable and extensible than traditional autonomous agent frameworks.\n",
      "\n",
      "If you'd like more detail on how to get started with LangGraph, its advantages, or best practices for AI agent development, please let me know your use case or specific goals, and I can provide targeted advice or resources to help you proceed.\n"
     ]
    }
   ],
   "source": [
    "human_message=(\n",
    "  \"We, the experts are here to help! We'd recommend you check out LangGraph to build your agent.\"\n",
    "    \" It's much more reliable and extensible than simple autonomous agents.\"\n",
    ")\n",
    "\n",
    "human_command=Command(resume={\"data\":human_message})\n",
    "\n",
    "\n",
    "events = graph.stream(human_command, config, stream_mode=\"values\")\n",
    "for event in events:\n",
    "    if \"messages\" in event:\n",
    "        event[\"messages\"][-1].pretty_print()"
   ]
  },
  {
   "cell_type": "code",
   "execution_count": null,
   "id": "301d5c96",
   "metadata": {},
   "outputs": [],
   "source": []
  }
 ],
 "metadata": {
  "kernelspec": {
   "display_name": "Python 3",
   "language": "python",
   "name": "python3"
  },
  "language_info": {
   "codemirror_mode": {
    "name": "ipython",
    "version": 3
   },
   "file_extension": ".py",
   "mimetype": "text/x-python",
   "name": "python",
   "nbconvert_exporter": "python",
   "pygments_lexer": "ipython3",
   "version": "3.11.0"
  }
 },
 "nbformat": 4,
 "nbformat_minor": 5
}
